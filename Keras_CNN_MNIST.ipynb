{
  "nbformat": 4,
  "nbformat_minor": 0,
  "metadata": {
    "colab": {
      "name": "Keras CNN MNIST",
      "provenance": []
    },
    "kernelspec": {
      "name": "python3",
      "display_name": "Python 3"
    }
  },
  "cells": [
    {
      "cell_type": "code",
      "metadata": {
        "id": "kS7bPkRawSJl"
      },
      "source": [
        "#Keras preloaded dataset\r\n",
        "from keras.datasets import mnist\r\n",
        "#download mnist data and split into train and test sets\r\n",
        "(X_train, y_train), (X_test, y_test) = mnist.load_data()  "
      ],
      "execution_count": 5,
      "outputs": []
    },
    {
      "cell_type": "code",
      "metadata": {
        "colab": {
          "base_uri": "https://localhost:8080/",
          "height": 283
        },
        "id": "kLTlohGxxU_B",
        "outputId": "bd9f8f63-b695-4899-e0d8-5bdade22f388"
      },
      "source": [
        "import matplotlib.pyplot as plt\r\n",
        "#plot the first image in the dataset\r\n",
        "plt.imshow(X_train[0])"
      ],
      "execution_count": 6,
      "outputs": [
        {
          "output_type": "execute_result",
          "data": {
            "text/plain": [
              "<matplotlib.image.AxesImage at 0x7f6409a3fb38>"
            ]
          },
          "metadata": {
            "tags": []
          },
          "execution_count": 6
        },
        {
          "output_type": "display_data",
          "data": {
            "image/png": "[encoded data removed]",
            "text/plain": [
              "<Figure size 432x288 with 1 Axes>"
            ]
          },
          "metadata": {
            "tags": [],
            "needs_background": "light"
          }
        }
      ]
    },
    {
      "cell_type": "code",
      "metadata": {
        "colab": {
          "base_uri": "https://localhost:8080/"
        },
        "id": "8f_jS637xn4F",
        "outputId": "2bf4a044-80ab-4d9c-d545-7a05f8737a70"
      },
      "source": [
        "#check dataset shape\r\n",
        "X_train.shape"
      ],
      "execution_count": 7,
      "outputs": [
        {
          "output_type": "execute_result",
          "data": {
            "text/plain": [
              "(60000, 28, 28)"
            ]
          },
          "metadata": {
            "tags": []
          },
          "execution_count": 7
        }
      ]
    },
    {
      "cell_type": "code",
      "metadata": {
        "colab": {
          "base_uri": "https://localhost:8080/"
        },
        "id": "XWRF6qoJyYZr",
        "outputId": "40a1164d-8c3c-4ce3-b66c-6fb3651ff2a3"
      },
      "source": [
        "#check image shape\r\n",
        "X_train[0].shape"
      ],
      "execution_count": 8,
      "outputs": [
        {
          "output_type": "execute_result",
          "data": {
            "text/plain": [
              "(28, 28)"
            ]
          },
          "metadata": {
            "tags": []
          },
          "execution_count": 8
        }
      ]
    },
    {
      "cell_type": "code",
      "metadata": {
        "id": "IGmMlIvKxykd"
      },
      "source": [
        "#reshape data to fit model\r\n",
        "#The first number is the number of images (60,000 for X_train and 10,000 for X_test)\r\n",
        "#Then comes the shape of each image (28x28). \r\n",
        "#The last number is 1, which signifies that the images are greyscale.\r\n",
        "X_train = X_train.reshape(60000,28,28,1)\r\n",
        "X_test = X_test.reshape(10000,28,28,1)"
      ],
      "execution_count": 9,
      "outputs": []
    },
    {
      "cell_type": "code",
      "metadata": {
        "colab": {
          "base_uri": "https://localhost:8080/"
        },
        "id": "McDKWTI3yFW0",
        "outputId": "04735f9c-3341-4273-a6ab-fe86a80df9ca"
      },
      "source": [
        "#We need to ‘one-hot-encode’ our target variable. \r\n",
        "#This means that a column will be created for each output category and a binary variable is inputted for each category.\r\n",
        "from keras.utils import to_categorical\r\n",
        "#one-hot encode target column\r\n",
        "y_train = to_categorical(y_train)\r\n",
        "y_test = to_categorical(y_test)\r\n",
        "y_train[0]"
      ],
      "execution_count": 10,
      "outputs": [
        {
          "output_type": "execute_result",
          "data": {
            "text/plain": [
              "array([0., 0., 0., 0., 0., 1., 0., 0., 0., 0.], dtype=float32)"
            ]
          },
          "metadata": {
            "tags": []
          },
          "execution_count": 10
        }
      ]
    },
    {
      "cell_type": "markdown",
      "metadata": {
        "id": "H5pLTL67y3ti"
      },
      "source": [
        "Sequential is the easiest way to build a model in Keras. It allows you to build a model layer by layer.\r\n",
        "\r\n",
        "Our first 2 layers are Conv2D layers.\r\n",
        "\r\n",
        "64 in the first layer and 32 in the second layer are the number of nodes in each layer. \r\n",
        "\r\n",
        "Kernel size is the size of the filter matrix for our convolution. So a kernel size of 3 means we will have a 3x3 filter matrix.\r\n",
        "\r\n",
        "Activation is the activation function for the layer. The activation function we will be using for our first 2 layers is the ReLU, or Rectified Linear Activation. \r\n",
        "\r\n",
        "Our first layer also takes in an input shape. This is the shape of each input image, 28,28,1 as seen earlier on, with the 1 signifying that the images are greyscale.\r\n",
        "\r\n",
        "‘Dense’ is the layer type we will use in for our output layer. Dense is a standard layer type that is used in many cases for neural networks.\r\n",
        "\r\n",
        "#Source: https://towardsdatascience.com/building-a-convolutional-neural-network-cnn-in-keras-329fbbadc5f5\r\n",
        "\r\n"
      ]
    },
    {
      "cell_type": "code",
      "metadata": {
        "id": "nCmnb1vryklB"
      },
      "source": [
        "from keras.models import Sequential\r\n",
        "from keras.layers import Dense, Conv2D, Flatten\r\n",
        "#create model\r\n",
        "model = Sequential()\r\n",
        "#add model layers\r\n",
        "model.add(Conv2D(64, kernel_size=3, activation='relu', input_shape=(28,28,1)))\r\n",
        "model.add(Conv2D(32, kernel_size=3, activation='relu'))\r\n",
        "model.add(Flatten())\r\n",
        "model.add(Dense(10, activation='softmax'))"
      ],
      "execution_count": 13,
      "outputs": []
    },
    {
      "cell_type": "code",
      "metadata": {
        "id": "HUIaFAm3zPB-"
      },
      "source": [
        "#compile model using accuracy to measure model performance\r\n",
        "model.compile(optimizer='adam', loss='categorical_crossentropy', metrics=['accuracy'])"
      ],
      "execution_count": 14,
      "outputs": []
    },
    {
      "cell_type": "code",
      "metadata": {
        "colab": {
          "base_uri": "https://localhost:8080/"
        },
        "id": "Mw6dKPNYzYMl",
        "outputId": "60f15d59-992d-4e04-edd0-a19f7a8a05a1"
      },
      "source": [
        "#train the model\r\n",
        "model.fit(X_train, y_train, validation_data=(X_test, y_test), epochs=3)"
      ],
      "execution_count": 15,
      "outputs": [
        {
          "output_type": "stream",
          "text": [
            "Epoch 1/3\n",
            "1875/1875 [==============================] - 152s 81ms/step - loss: 0.8990 - accuracy: 0.9100 - val_loss: 0.0986 - val_accuracy: 0.9683\n",
            "Epoch 2/3\n",
            "1875/1875 [==============================] - 150s 80ms/step - loss: 0.0630 - accuracy: 0.9809 - val_loss: 0.0815 - val_accuracy: 0.9743\n",
            "Epoch 3/3\n",
            "1875/1875 [==============================] - 152s 81ms/step - loss: 0.0419 - accuracy: 0.9870 - val_loss: 0.0805 - val_accuracy: 0.9767\n"
          ],
          "name": "stdout"
        },
        {
          "output_type": "execute_result",
          "data": {
            "text/plain": [
              "<tensorflow.python.keras.callbacks.History at 0x7f64027de908>"
            ]
          },
          "metadata": {
            "tags": []
          },
          "execution_count": 15
        }
      ]
    },
    {
      "cell_type": "code",
      "metadata": {
        "colab": {
          "base_uri": "https://localhost:8080/"
        },
        "id": "Bavt8zFbzfvD",
        "outputId": "0e9155e6-3c3d-4aa5-b754-f672f3b00b9f"
      },
      "source": [
        "#predict first 4 images in the test set\r\n",
        "model.predict(X_test[:4])"
      ],
      "execution_count": 16,
      "outputs": [
        {
          "output_type": "execute_result",
          "data": {
            "text/plain": [
              "array([[1.18386129e-06, 1.08359745e-11, 1.55345842e-05, 1.93872547e-05,\n",
              "        1.06496457e-10, 2.94337783e-11, 4.05327627e-14, 9.99962091e-01,\n",
              "        1.32371781e-06, 5.19866433e-07],\n",
              "       [1.65718700e-06, 4.09423365e-06, 9.99982357e-01, 1.41354473e-09,\n",
              "        2.45465026e-09, 6.32375619e-09, 1.18916678e-05, 3.56831665e-12,\n",
              "        2.66220290e-08, 3.22432769e-15],\n",
              "       [3.60043600e-07, 9.99821842e-01, 4.60414952e-07, 1.19850851e-10,\n",
              "        1.55227044e-05, 1.22260985e-06, 2.35425773e-07, 4.00571662e-05,\n",
              "        1.20139019e-04, 2.92078170e-07],\n",
              "       [9.99976516e-01, 7.65856649e-12, 8.12929648e-06, 2.97752426e-12,\n",
              "        3.10396864e-09, 3.56995350e-10, 1.47305773e-05, 2.01825709e-10,\n",
              "        1.04534948e-07, 5.25894734e-07]], dtype=float32)"
            ]
          },
          "metadata": {
            "tags": []
          },
          "execution_count": 16
        }
      ]
    },
    {
      "cell_type": "code",
      "metadata": {
        "colab": {
          "base_uri": "https://localhost:8080/"
        },
        "id": "oT0uXpCI1b8k",
        "outputId": "da8e7191-610e-4833-e60d-8382349f05da"
      },
      "source": [
        "\r\n",
        "#show actual results for the first 3 images in the test set\r\n",
        "y_test[:4]"
      ],
      "execution_count": 17,
      "outputs": [
        {
          "output_type": "execute_result",
          "data": {
            "text/plain": [
              "array([[0., 0., 0., 0., 0., 0., 0., 1., 0., 0.],\n",
              "       [0., 0., 1., 0., 0., 0., 0., 0., 0., 0.],\n",
              "       [0., 1., 0., 0., 0., 0., 0., 0., 0., 0.],\n",
              "       [1., 0., 0., 0., 0., 0., 0., 0., 0., 0.]], dtype=float32)"
            ]
          },
          "metadata": {
            "tags": []
          },
          "execution_count": 17
        }
      ]
    },
    {
      "cell_type": "code",
      "metadata": {
        "id": "VAhichCG1k7c"
      },
      "source": [
        ""
      ],
      "execution_count": null,
      "outputs": []
    }
  ]
}