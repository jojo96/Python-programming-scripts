{
 "cells": [
  {
   "cell_type": "code",
   "execution_count": 1,
   "metadata": {},
   "outputs": [],
   "source": [
    "import cv2\n",
    "import glob"
   ]
  },
  {
   "cell_type": "code",
   "execution_count": 2,
   "metadata": {},
   "outputs": [],
   "source": [
    "vidcap = cv2.VideoCapture(r'C:\\Users\\admin\\Downloads\\vid+tra\\1\\1.mp4')#video storage place\n",
    "success,image = vidcap.read()\n",
    "count = 0\n",
    "import os\n",
    "os.chdir(r'C:\\Users\\admin\\Downloads\\vid+tra\\1\\frames')#folder where you wanna store frames\n",
    "while success:  \n",
    "  input = image\n",
    "  height, width = input.shape[:2]\n",
    "\n",
    "    # Desired \"pixelated\" size\n",
    "  w, h = (64, 64)\n",
    "\n",
    "    # Resize input to \"pixelated\" size\n",
    "  temp = cv2.resize(input, (w, h), interpolation=cv2.INTER_LINEAR)\n",
    "\n",
    "    # Initialize output image\n",
    "  output = cv2.resize(temp, (width, height), interpolation=cv2.INTER_NEAREST)  \n",
    "    \n",
    "  cv2.imwrite(\"frame%d.jpg\" % count, output)     # save frame as JPEG file      \n",
    "  success,image = vidcap.read()\n",
    "  #print('Read a new frame: ', success)\n",
    "  count += 1"
   ]
  },
  {
   "cell_type": "code",
   "execution_count": 3,
   "metadata": {},
   "outputs": [],
   "source": [
    " \n",
    "img_array = []\n",
    "for filename in glob.glob(r'C:\\Users\\admin\\Downloads\\vid+tra\\1\\frames/*.jpg'):\n",
    "    img = cv2.imread(filename)\n",
    "    height, width, layers = img.shape\n",
    "    size = (width,height)\n",
    "    img_array.append(img)\n",
    " \n",
    " \n",
    "out = cv2.VideoWriter(r'C:\\Users\\admin\\Downloads\\vid+tra\\1\\frames\\project.avi',cv2.VideoWriter_fourcc(*'DIVX'), 15, size)\n",
    " \n",
    "for i in range(len(img_array)):\n",
    "    out.write(img_array[i])\n",
    "out.release()"
   ]
  },
  {
   "cell_type": "code",
   "execution_count": null,
   "metadata": {},
   "outputs": [],
   "source": []
  }
 ],
 "metadata": {
  "kernelspec": {
   "display_name": "Python 3",
   "language": "python",
   "name": "python3"
  },
  "language_info": {
   "codemirror_mode": {
    "name": "ipython",
    "version": 3
   },
   "file_extension": ".py",
   "mimetype": "text/x-python",
   "name": "python",
   "nbconvert_exporter": "python",
   "pygments_lexer": "ipython3",
   "version": "3.7.4"
  }
 },
 "nbformat": 4,
 "nbformat_minor": 2
}
