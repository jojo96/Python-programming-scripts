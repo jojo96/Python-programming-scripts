{
 "cells": [
  {
   "cell_type": "code",
   "execution_count": 1,
   "metadata": {},
   "outputs": [],
   "source": [
    "import pandas as pd\n",
    "import numpy as np\n",
    "import matplotlib.pyplot as plt\n",
    "import matplotlib.image as mpimg\n",
    "import seaborn as sns\n",
    "%matplotlib inline\n",
    "\n",
    "np.random.seed(2)\n",
    "\n",
    "from sklearn.model_selection import train_test_split\n",
    "from sklearn.metrics import confusion_matrix\n",
    "import itertools\n",
    "\n",
    "from keras.utils.np_utils import to_categorical # convert to one-hot-encoding\n",
    "from keras.models import Sequential\n",
    "from keras.layers import Dense, Dropout, Flatten, Conv2D, MaxPool2D\n",
    "from keras.optimizers import RMSprop\n",
    "from keras.preprocessing.image import ImageDataGenerator\n",
    "from keras.callbacks import ReduceLROnPlateau\n",
    "\n",
    "\n",
    "sns.set(style='white', context='notebook', palette='deep')"
   ]
  },
  {
   "cell_type": "code",
   "execution_count": 4,
   "metadata": {},
   "outputs": [],
   "source": [
    "# Load the data\n",
    "train = pd.read_csv(r\"C:\\Users\\Jojo\\Downloads/train/train.csv\")\n",
    "test = pd.read_csv(r\"C:\\Users\\Jojo\\Downloads/train/test.csv\")"
   ]
  },
  {
   "cell_type": "code",
   "execution_count": 5,
   "metadata": {},
   "outputs": [
    {
     "data": {
      "text/plain": [
       "1    4684\n",
       "7    4401\n",
       "3    4351\n",
       "9    4188\n",
       "2    4177\n",
       "6    4137\n",
       "0    4132\n",
       "4    4072\n",
       "8    4063\n",
       "5    3795\n",
       "Name: label, dtype: int64"
      ]
     },
     "execution_count": 5,
     "metadata": {},
     "output_type": "execute_result"
    },
    {
     "data": {
      "image/png": "[encoded data removed]",
      "text/plain": [
       "<Figure size 432x288 with 1 Axes>"
      ]
     },
     "metadata": {},
     "output_type": "display_data"
    }
   ],
   "source": [
    "Y_train = train[\"label\"]\n",
    "\n",
    "# Drop 'label' column\n",
    "X_train = train.drop(labels = [\"label\"],axis = 1) \n",
    "\n",
    "# free some space\n",
    "del train \n",
    "\n",
    "g = sns.countplot(Y_train)\n",
    "\n",
    "Y_train.value_counts()"
   ]
  },
  {
   "cell_type": "code",
   "execution_count": 6,
   "metadata": {},
   "outputs": [
    {
     "data": {
      "text/plain": [
       "count       784\n",
       "unique        1\n",
       "top       False\n",
       "freq        784\n",
       "dtype: object"
      ]
     },
     "execution_count": 6,
     "metadata": {},
     "output_type": "execute_result"
    }
   ],
   "source": [
    "X_train.isnull().any().describe()\n"
   ]
  },
  {
   "cell_type": "code",
   "execution_count": 7,
   "metadata": {},
   "outputs": [],
   "source": [
    "X_train = X_train / 255.0\n",
    "test = test / 255.0"
   ]
  },
  {
   "cell_type": "code",
   "execution_count": 8,
   "metadata": {},
   "outputs": [],
   "source": [
    "X_train = X_train.values.reshape(-1,28,28,1)\n",
    "test = test.values.reshape(-1,28,28,1)"
   ]
  },
  {
   "cell_type": "code",
   "execution_count": 9,
   "metadata": {},
   "outputs": [],
   "source": [
    "Y_train = to_categorical(Y_train, num_classes = 10)"
   ]
  },
  {
   "cell_type": "code",
   "execution_count": 10,
   "metadata": {},
   "outputs": [],
   "source": [
    "random_seed = 2"
   ]
  },
  {
   "cell_type": "code",
   "execution_count": 11,
   "metadata": {},
   "outputs": [],
   "source": [
    "X_train, X_val, Y_train, Y_val = train_test_split(X_train, Y_train, test_size = 0.1, random_state=random_seed)"
   ]
  },
  {
   "cell_type": "code",
   "execution_count": 13,
   "metadata": {},
   "outputs": [
    {
     "data": {
      "image/png": "[encoded data removed]",
      "text/plain": [
       "<Figure size 432x288 with 1 Axes>"
      ]
     },
     "metadata": {},
     "output_type": "display_data"
    }
   ],
   "source": [
    "g = plt.imshow(X_train[11][:,:,0])"
   ]
  },
  {
   "cell_type": "code",
   "execution_count": 14,
   "metadata": {},
   "outputs": [],
   "source": [
    "# Set the CNN model \n",
    "# my CNN architechture is In -> [[Conv2D->relu]*2 -> MaxPool2D -> Dropout]*2 -> Flatten -> Dense -> Dropout -> Out\n",
    "\n",
    "model = Sequential()\n",
    "\n",
    "model.add(Conv2D(filters = 32, kernel_size = (5,5),padding = 'Same', \n",
    "                 activation ='relu', input_shape = (28,28,1)))\n",
    "model.add(Conv2D(filters = 32, kernel_size = (5,5),padding = 'Same', \n",
    "                 activation ='relu'))\n",
    "model.add(MaxPool2D(pool_size=(2,2)))\n",
    "model.add(Dropout(0.25))\n",
    "\n",
    "\n",
    "model.add(Conv2D(filters = 64, kernel_size = (3,3),padding = 'Same', \n",
    "                 activation ='relu'))\n",
    "model.add(Conv2D(filters = 64, kernel_size = (3,3),padding = 'Same', \n",
    "                 activation ='relu'))\n",
    "model.add(MaxPool2D(pool_size=(2,2), strides=(2,2)))\n",
    "model.add(Dropout(0.25))\n",
    "\n",
    "\n",
    "model.add(Flatten())\n",
    "model.add(Dense(256, activation = \"relu\"))\n",
    "model.add(Dropout(0.5))\n",
    "model.add(Dense(10, activation = \"softmax\"))"
   ]
  },
  {
   "cell_type": "code",
   "execution_count": 15,
   "metadata": {},
   "outputs": [],
   "source": [
    "optimizer = RMSprop(lr=0.001, rho=0.9, epsilon=1e-08, decay=0.0)\n"
   ]
  },
  {
   "cell_type": "code",
   "execution_count": 16,
   "metadata": {},
   "outputs": [],
   "source": [
    "model.compile(optimizer = optimizer , loss = \"categorical_crossentropy\", metrics=[\"accuracy\"])"
   ]
  },
  {
   "cell_type": "code",
   "execution_count": 17,
   "metadata": {},
   "outputs": [],
   "source": [
    "learning_rate_reduction = ReduceLROnPlateau(monitor='val_acc', \n",
    "                                            patience=3, \n",
    "                                            verbose=1, \n",
    "                                            factor=0.5, \n",
    "                                            min_lr=0.00001)"
   ]
  },
  {
   "cell_type": "code",
   "execution_count": 18,
   "metadata": {},
   "outputs": [],
   "source": [
    "epochs = 1 # Turn epochs to 30 to get 0.9967 accuracy\n",
    "batch_size = 86"
   ]
  },
  {
   "cell_type": "code",
   "execution_count": 19,
   "metadata": {},
   "outputs": [],
   "source": [
    "datagen = ImageDataGenerator(\n",
    "        featurewise_center=False,  # set input mean to 0 over the dataset\n",
    "        samplewise_center=False,  # set each sample mean to 0\n",
    "        featurewise_std_normalization=False,  # divide inputs by std of the dataset\n",
    "        samplewise_std_normalization=False,  # divide each input by its std\n",
    "        zca_whitening=False,  # apply ZCA whitening\n",
    "        rotation_range=10,  # randomly rotate images in the range (degrees, 0 to 180)\n",
    "        zoom_range = 0.1, # Randomly zoom image \n",
    "        width_shift_range=0.1,  # randomly shift images horizontally (fraction of total width)\n",
    "        height_shift_range=0.1,  # randomly shift images vertically (fraction of total height)\n",
    "        horizontal_flip=False,  # randomly flip images\n",
    "        vertical_flip=False)  # randomly flip images\n",
    "\n",
    "\n",
    "datagen.fit(X_train)\n"
   ]
  },
  {
   "cell_type": "code",
   "execution_count": 20,
   "metadata": {},
   "outputs": [
    {
     "name": "stdout",
     "output_type": "stream",
     "text": [
      "WARNING:tensorflow:From <ipython-input-20-00f8d670f626>:1: Model.fit_generator (from tensorflow.python.keras.engine.training) is deprecated and will be removed in a future version.\n",
      "Instructions for updating:\n",
      "Please use Model.fit, which supports generators.\n",
      "WARNING:tensorflow:Reduce LR on plateau conditioned on metric `val_acc` which is not available. Available metrics are: loss,accuracy,val_loss,val_accuracy,lr\n",
      "439/439 - 123s - loss: 0.4161 - accuracy: 0.8638 - val_loss: 0.0588 - val_accuracy: 0.9821\n"
     ]
    }
   ],
   "source": [
    "history = model.fit_generator(datagen.flow(X_train,Y_train, batch_size=batch_size),\n",
    "                              epochs = epochs, validation_data = (X_val,Y_val),\n",
    "                              verbose = 2, steps_per_epoch=X_train.shape[0] // batch_size\n",
    "                              , callbacks=[learning_rate_reduction])"
   ]
  },
  {
   "cell_type": "code",
   "execution_count": 23,
   "metadata": {},
   "outputs": [
    {
     "data": {
      "image/png": "[encoded data removed]",
      "text/plain": [
       "<Figure size 432x288 with 2 Axes>"
      ]
     },
     "metadata": {},
     "output_type": "display_data"
    }
   ],
   "source": [
    "# Look at confusion matrix \n",
    "\n",
    "def plot_confusion_matrix(cm, classes,\n",
    "                          normalize=False,\n",
    "                          title='Confusion matrix',\n",
    "                          cmap=plt.cm.Blues):\n",
    "    \"\"\"\n",
    "    This function prints and plots the confusion matrix.\n",
    "    Normalization can be applied by setting `normalize=True`.\n",
    "    \"\"\"\n",
    "    plt.imshow(cm, interpolation='nearest', cmap=cmap)\n",
    "    plt.title(title)\n",
    "    plt.colorbar()\n",
    "    tick_marks = np.arange(len(classes))\n",
    "    plt.xticks(tick_marks, classes, rotation=45)\n",
    "    plt.yticks(tick_marks, classes)\n",
    "\n",
    "    if normalize:\n",
    "        cm = cm.astype('float') / cm.sum(axis=1)[:, np.newaxis]\n",
    "\n",
    "    thresh = cm.max() / 2.\n",
    "    for i, j in itertools.product(range(cm.shape[0]), range(cm.shape[1])):\n",
    "        plt.text(j, i, cm[i, j],\n",
    "                 horizontalalignment=\"center\",\n",
    "                 color=\"white\" if cm[i, j] > thresh else \"black\")\n",
    "\n",
    "    plt.tight_layout()\n",
    "    plt.ylabel('True label')\n",
    "    plt.xlabel('Predicted label')\n",
    "\n",
    "# Predict the values from the validation dataset\n",
    "Y_pred = model.predict(X_val)\n",
    "# Convert predictions classes to one hot vectors \n",
    "Y_pred_classes = np.argmax(Y_pred,axis = 1) \n",
    "# Convert validation observations to one hot vectors\n",
    "Y_true = np.argmax(Y_val,axis = 1) \n",
    "# compute the confusion matrix\n",
    "confusion_mtx = confusion_matrix(Y_true, Y_pred_classes) \n",
    "# plot the confusion matrix\n",
    "plot_confusion_matrix(confusion_mtx, classes = range(10)) "
   ]
  },
  {
   "cell_type": "code",
   "execution_count": 24,
   "metadata": {},
   "outputs": [],
   "source": [
    "results = model.predict(test)\n",
    "\n",
    "# select the indix with the maximum probability\n",
    "results = np.argmax(results,axis = 1)\n",
    "\n",
    "results = pd.Series(results,name=\"Label\")"
   ]
  },
  {
   "cell_type": "code",
   "execution_count": 25,
   "metadata": {},
   "outputs": [],
   "source": [
    "\n",
    "import numpy as np\n",
    "from random import randint\n",
    "from sklearn.preprocessing import MinMaxScaler"
   ]
  },
  {
   "cell_type": "code",
   "execution_count": 26,
   "metadata": {},
   "outputs": [],
   "source": [
    "train_labels =  []\n",
    "train_samples = []"
   ]
  },
  {
   "cell_type": "code",
   "execution_count": 27,
   "metadata": {},
   "outputs": [],
   "source": [
    "for i in range(50):\n",
    "    # The 5% of younger individuals who did experience side effects\n",
    "    random_younger = randint(13,64)\n",
    "    train_samples.append(random_younger)\n",
    "    train_labels.append(1)\n",
    "    \n",
    "    # The 5% of older individuals who did not experience side effects\n",
    "    random_older = randint(65,100)\n",
    "    train_samples.append(random_older)\n",
    "    train_labels.append(0)\n",
    "\n",
    "for i in range(1000):\n",
    "    # The 95% of younger individuals who did not experience side effects\n",
    "    random_younger = randint(13,64)\n",
    "    train_samples.append(random_younger)\n",
    "    train_labels.append(0)\n",
    "    \n",
    "    # The 95% of older individuals who did experience side effects\n",
    "    random_older = randint(65,100)\n",
    "    train_samples.append(random_older)\n",
    "    train_labels.append(1)\n"
   ]
  },
  {
   "cell_type": "code",
   "execution_count": 28,
   "metadata": {},
   "outputs": [],
   "source": [
    "train_labels = np.array(train_labels)\n",
    "train_samples = np.array(train_samples)"
   ]
  },
  {
   "cell_type": "code",
   "execution_count": 31,
   "metadata": {},
   "outputs": [],
   "source": [
    "scaler = MinMaxScaler(feature_range=(0,1))\n",
    "scaled_train_samples = scaler.fit_transform((train_samples).reshape(-1,1))"
   ]
  },
  {
   "cell_type": "code",
   "execution_count": 33,
   "metadata": {},
   "outputs": [],
   "source": [
    "\n",
    "import keras\n",
    "from keras import backend as K\n",
    "from keras.models import Sequential\n",
    "from keras.layers import Activation\n",
    "from keras.layers.core import Dense\n",
    "from keras.optimizers import Adam\n",
    "from keras.metrics import categorical_crossentropy"
   ]
  },
  {
   "cell_type": "code",
   "execution_count": 34,
   "metadata": {},
   "outputs": [],
   "source": [
    "model = Sequential([\n",
    "    Dense(16, input_shape=(1,), activation='relu'),\n",
    "    Dense(32, activation='relu'),\n",
    "    Dense(2, activation='sigmoid')\n",
    "])"
   ]
  },
  {
   "cell_type": "code",
   "execution_count": 35,
   "metadata": {},
   "outputs": [],
   "source": [
    "model.compile(Adam(lr=.0001), loss='sparse_categorical_crossentropy', metrics=['accuracy'])"
   ]
  },
  {
   "cell_type": "code",
   "execution_count": 36,
   "metadata": {},
   "outputs": [],
   "source": [
    "model.loss = 'sparse_categorical_crossentropy'\n"
   ]
  },
  {
   "cell_type": "code",
   "execution_count": 37,
   "metadata": {},
   "outputs": [
    {
     "data": {
      "text/plain": [
       "'sparse_categorical_crossentropy'"
      ]
     },
     "execution_count": 37,
     "metadata": {},
     "output_type": "execute_result"
    }
   ],
   "source": [
    "model.loss\n"
   ]
  },
  {
   "cell_type": "code",
   "execution_count": 38,
   "metadata": {},
   "outputs": [
    {
     "name": "stdout",
     "output_type": "stream",
     "text": [
      "Epoch 1/20\n",
      "210/210 - 0s - loss: 0.6931 - accuracy: 0.5748\n",
      "Epoch 2/20\n",
      "210/210 - 0s - loss: 0.6706 - accuracy: 0.6243\n",
      "Epoch 3/20\n",
      "210/210 - 0s - loss: 0.6449 - accuracy: 0.6638\n",
      "Epoch 4/20\n",
      "210/210 - 0s - loss: 0.6183 - accuracy: 0.6933\n",
      "Epoch 5/20\n",
      "210/210 - 0s - loss: 0.5907 - accuracy: 0.7181\n",
      "Epoch 6/20\n",
      "210/210 - 0s - loss: 0.5632 - accuracy: 0.7371\n",
      "Epoch 7/20\n",
      "210/210 - 0s - loss: 0.5354 - accuracy: 0.7719\n",
      "Epoch 8/20\n",
      "210/210 - 0s - loss: 0.5059 - accuracy: 0.8010\n",
      "Epoch 9/20\n",
      "210/210 - 0s - loss: 0.4769 - accuracy: 0.8181\n",
      "Epoch 10/20\n",
      "210/210 - 0s - loss: 0.4494 - accuracy: 0.8552\n",
      "Epoch 11/20\n",
      "210/210 - 0s - loss: 0.4229 - accuracy: 0.8690\n",
      "Epoch 12/20\n",
      "210/210 - 0s - loss: 0.3984 - accuracy: 0.8881\n",
      "Epoch 13/20\n",
      "210/210 - 0s - loss: 0.3767 - accuracy: 0.9000\n",
      "Epoch 14/20\n",
      "210/210 - 0s - loss: 0.3581 - accuracy: 0.9095\n",
      "Epoch 15/20\n",
      "210/210 - 0s - loss: 0.3422 - accuracy: 0.9162\n",
      "Epoch 16/20\n",
      "210/210 - 0s - loss: 0.3291 - accuracy: 0.9205\n",
      "Epoch 17/20\n",
      "210/210 - 0s - loss: 0.3184 - accuracy: 0.9248\n",
      "Epoch 18/20\n",
      "210/210 - 0s - loss: 0.3096 - accuracy: 0.9252\n",
      "Epoch 19/20\n",
      "210/210 - 0s - loss: 0.3026 - accuracy: 0.9319\n",
      "Epoch 20/20\n",
      "210/210 - 0s - loss: 0.2967 - accuracy: 0.9348\n"
     ]
    },
    {
     "data": {
      "text/plain": [
       "<tensorflow.python.keras.callbacks.History at 0x22bc6ea37c0>"
      ]
     },
     "execution_count": 38,
     "metadata": {},
     "output_type": "execute_result"
    }
   ],
   "source": [
    "model.fit(scaled_train_samples, train_labels, batch_size=10, epochs=20, shuffle=True, verbose=2)\n"
   ]
  },
  {
   "cell_type": "code",
   "execution_count": 39,
   "metadata": {},
   "outputs": [
    {
     "name": "stdout",
     "output_type": "stream",
     "text": [
      "Epoch 1/20\n",
      "168/168 - 1s - loss: 0.3172 - accuracy: 0.9244 - val_loss: 0.1925 - val_accuracy: 0.9857\n",
      "Epoch 2/20\n",
      "168/168 - 0s - loss: 0.3150 - accuracy: 0.9244 - val_loss: 0.1882 - val_accuracy: 0.9857\n",
      "Epoch 3/20\n",
      "168/168 - 0s - loss: 0.3130 - accuracy: 0.9268 - val_loss: 0.1839 - val_accuracy: 0.9857\n",
      "Epoch 4/20\n",
      "168/168 - 0s - loss: 0.3114 - accuracy: 0.9310 - val_loss: 0.1802 - val_accuracy: 0.9857\n",
      "Epoch 5/20\n",
      "168/168 - 0s - loss: 0.3101 - accuracy: 0.9286 - val_loss: 0.1770 - val_accuracy: 0.9857\n",
      "Epoch 6/20\n",
      "168/168 - 0s - loss: 0.3089 - accuracy: 0.9286 - val_loss: 0.1746 - val_accuracy: 0.9881\n",
      "Epoch 7/20\n",
      "168/168 - 0s - loss: 0.3077 - accuracy: 0.9310 - val_loss: 0.1718 - val_accuracy: 0.9881\n",
      "Epoch 8/20\n",
      "168/168 - 0s - loss: 0.3069 - accuracy: 0.9298 - val_loss: 0.1690 - val_accuracy: 0.9857\n",
      "Epoch 9/20\n",
      "168/168 - 0s - loss: 0.3057 - accuracy: 0.9310 - val_loss: 0.1669 - val_accuracy: 0.9881\n",
      "Epoch 10/20\n",
      "168/168 - 0s - loss: 0.3048 - accuracy: 0.9304 - val_loss: 0.1647 - val_accuracy: 0.9881\n",
      "Epoch 11/20\n",
      "168/168 - 0s - loss: 0.3041 - accuracy: 0.9310 - val_loss: 0.1627 - val_accuracy: 0.9881\n",
      "Epoch 12/20\n",
      "168/168 - 0s - loss: 0.3035 - accuracy: 0.9298 - val_loss: 0.1619 - val_accuracy: 0.9881\n",
      "Epoch 13/20\n",
      "168/168 - 0s - loss: 0.3028 - accuracy: 0.9292 - val_loss: 0.1596 - val_accuracy: 0.9881\n",
      "Epoch 14/20\n",
      "168/168 - 0s - loss: 0.3023 - accuracy: 0.9315 - val_loss: 0.1588 - val_accuracy: 0.9881\n",
      "Epoch 15/20\n",
      "168/168 - 0s - loss: 0.3017 - accuracy: 0.9327 - val_loss: 0.1564 - val_accuracy: 0.9881\n",
      "Epoch 16/20\n",
      "168/168 - 0s - loss: 0.3011 - accuracy: 0.9298 - val_loss: 0.1569 - val_accuracy: 1.0000\n",
      "Epoch 17/20\n",
      "168/168 - 0s - loss: 0.3009 - accuracy: 0.9363 - val_loss: 0.1536 - val_accuracy: 0.9881\n",
      "Epoch 18/20\n",
      "168/168 - 1s - loss: 0.3002 - accuracy: 0.9310 - val_loss: 0.1535 - val_accuracy: 1.0000\n",
      "Epoch 19/20\n",
      "168/168 - 0s - loss: 0.3001 - accuracy: 0.9345 - val_loss: 0.1518 - val_accuracy: 0.9881\n",
      "Epoch 20/20\n",
      "168/168 - 0s - loss: 0.2996 - accuracy: 0.9304 - val_loss: 0.1505 - val_accuracy: 0.9881\n"
     ]
    },
    {
     "data": {
      "text/plain": [
       "<tensorflow.python.keras.callbacks.History at 0x22bc6984d00>"
      ]
     },
     "execution_count": 39,
     "metadata": {},
     "output_type": "execute_result"
    }
   ],
   "source": [
    "model.fit(scaled_train_samples, train_labels, validation_split = 0.20, batch_size=10, \n",
    "          epochs=20, shuffle=True, verbose=2)"
   ]
  },
  {
   "cell_type": "code",
   "execution_count": 40,
   "metadata": {},
   "outputs": [],
   "source": [
    "import numpy as np\n",
    "import keras\n",
    "from keras import backend as K\n",
    "from keras.layers.core import Dense, Activation\n",
    "from keras.optimizers import Adam\n",
    "from keras.metrics import categorical_crossentropy\n",
    "from keras.preprocessing.image import ImageDataGenerator\n",
    "from keras.preprocessing import image\n",
    "from keras.models import Model\n",
    "from keras.applications import imagenet_utils\n",
    "from sklearn.metrics import confusion_matrix\n",
    "import itertools\n",
    "import matplotlib.pyplot as plt"
   ]
  },
  {
   "cell_type": "code",
   "execution_count": 41,
   "metadata": {},
   "outputs": [
    {
     "name": "stdout",
     "output_type": "stream",
     "text": [
      "Downloading data from https://storage.googleapis.com/tensorflow/keras-applications/mobilenet/mobilenet_1_0_224_tf.h5\n",
      "17227776/17225924 [==============================] - 3s 0us/step\n"
     ]
    }
   ],
   "source": [
    "mobile = keras.applications.mobilenet.MobileNet()\n"
   ]
  },
  {
   "cell_type": "code",
   "execution_count": 42,
   "metadata": {},
   "outputs": [],
   "source": [
    "def prepare_image(file):\n",
    "    img_path = 'MobileNet-inference-images/'\n",
    "    img = image.load_img(img_path + file, target_size=(224, 224))\n",
    "    img_array = image.img_to_array(img)\n",
    "    img_array_expanded_dims = np.expand_dims(img_array, axis=0)\n",
    "    return keras.applications.mobilenet.preprocess_input(img_array_expanded_dims)"
   ]
  },
  {
   "cell_type": "code",
   "execution_count": 43,
   "metadata": {},
   "outputs": [
    {
     "ename": "FileNotFoundError",
     "evalue": "[Errno 2] No such file or directory: 'MobileNet-inference-images/1.PNG'",
     "output_type": "error",
     "traceback": [
      "\u001b[1;31m---------------------------------------------------------------------------\u001b[0m",
      "\u001b[1;31mFileNotFoundError\u001b[0m                         Traceback (most recent call last)",
      "\u001b[1;32m<ipython-input-43-0eb8403dabdd>\u001b[0m in \u001b[0;36m<module>\u001b[1;34m\u001b[0m\n\u001b[0;32m      1\u001b[0m \u001b[1;32mfrom\u001b[0m \u001b[0mIPython\u001b[0m\u001b[1;33m.\u001b[0m\u001b[0mdisplay\u001b[0m \u001b[1;32mimport\u001b[0m \u001b[0mImage\u001b[0m\u001b[1;33m\u001b[0m\u001b[1;33m\u001b[0m\u001b[0m\n\u001b[1;32m----> 2\u001b[1;33m \u001b[0mImage\u001b[0m\u001b[1;33m(\u001b[0m\u001b[0mfilename\u001b[0m\u001b[1;33m=\u001b[0m\u001b[1;34m'MobileNet-inference-images/1.PNG'\u001b[0m\u001b[1;33m,\u001b[0m \u001b[0mwidth\u001b[0m\u001b[1;33m=\u001b[0m\u001b[1;36m300\u001b[0m\u001b[1;33m,\u001b[0m\u001b[0mheight\u001b[0m\u001b[1;33m=\u001b[0m\u001b[1;36m200\u001b[0m\u001b[1;33m)\u001b[0m\u001b[1;33m\u001b[0m\u001b[1;33m\u001b[0m\u001b[0m\n\u001b[0m",
      "\u001b[1;32mC:\\ProgramData\\Anaconda3\\lib\\site-packages\\IPython\\core\\display.py\u001b[0m in \u001b[0;36m__init__\u001b[1;34m(self, data, url, filename, format, embed, width, height, retina, unconfined, metadata)\u001b[0m\n\u001b[0;32m   1222\u001b[0m         \u001b[0mself\u001b[0m\u001b[1;33m.\u001b[0m\u001b[0mretina\u001b[0m \u001b[1;33m=\u001b[0m \u001b[0mretina\u001b[0m\u001b[1;33m\u001b[0m\u001b[1;33m\u001b[0m\u001b[0m\n\u001b[0;32m   1223\u001b[0m         \u001b[0mself\u001b[0m\u001b[1;33m.\u001b[0m\u001b[0munconfined\u001b[0m \u001b[1;33m=\u001b[0m \u001b[0munconfined\u001b[0m\u001b[1;33m\u001b[0m\u001b[1;33m\u001b[0m\u001b[0m\n\u001b[1;32m-> 1224\u001b[1;33m         super(Image, self).__init__(data=data, url=url, filename=filename, \n\u001b[0m\u001b[0;32m   1225\u001b[0m                 metadata=metadata)\n\u001b[0;32m   1226\u001b[0m \u001b[1;33m\u001b[0m\u001b[0m\n",
      "\u001b[1;32mC:\\ProgramData\\Anaconda3\\lib\\site-packages\\IPython\\core\\display.py\u001b[0m in \u001b[0;36m__init__\u001b[1;34m(self, data, url, filename, metadata)\u001b[0m\n\u001b[0;32m    628\u001b[0m             \u001b[0mself\u001b[0m\u001b[1;33m.\u001b[0m\u001b[0mmetadata\u001b[0m \u001b[1;33m=\u001b[0m \u001b[1;33m{\u001b[0m\u001b[1;33m}\u001b[0m\u001b[1;33m\u001b[0m\u001b[1;33m\u001b[0m\u001b[0m\n\u001b[0;32m    629\u001b[0m \u001b[1;33m\u001b[0m\u001b[0m\n\u001b[1;32m--> 630\u001b[1;33m         \u001b[0mself\u001b[0m\u001b[1;33m.\u001b[0m\u001b[0mreload\u001b[0m\u001b[1;33m(\u001b[0m\u001b[1;33m)\u001b[0m\u001b[1;33m\u001b[0m\u001b[1;33m\u001b[0m\u001b[0m\n\u001b[0m\u001b[0;32m    631\u001b[0m         \u001b[0mself\u001b[0m\u001b[1;33m.\u001b[0m\u001b[0m_check_data\u001b[0m\u001b[1;33m(\u001b[0m\u001b[1;33m)\u001b[0m\u001b[1;33m\u001b[0m\u001b[1;33m\u001b[0m\u001b[0m\n\u001b[0;32m    632\u001b[0m \u001b[1;33m\u001b[0m\u001b[0m\n",
      "\u001b[1;32mC:\\ProgramData\\Anaconda3\\lib\\site-packages\\IPython\\core\\display.py\u001b[0m in \u001b[0;36mreload\u001b[1;34m(self)\u001b[0m\n\u001b[0;32m   1254\u001b[0m         \u001b[1;34m\"\"\"Reload the raw data from file or URL.\"\"\"\u001b[0m\u001b[1;33m\u001b[0m\u001b[1;33m\u001b[0m\u001b[0m\n\u001b[0;32m   1255\u001b[0m         \u001b[1;32mif\u001b[0m \u001b[0mself\u001b[0m\u001b[1;33m.\u001b[0m\u001b[0membed\u001b[0m\u001b[1;33m:\u001b[0m\u001b[1;33m\u001b[0m\u001b[1;33m\u001b[0m\u001b[0m\n\u001b[1;32m-> 1256\u001b[1;33m             \u001b[0msuper\u001b[0m\u001b[1;33m(\u001b[0m\u001b[0mImage\u001b[0m\u001b[1;33m,\u001b[0m\u001b[0mself\u001b[0m\u001b[1;33m)\u001b[0m\u001b[1;33m.\u001b[0m\u001b[0mreload\u001b[0m\u001b[1;33m(\u001b[0m\u001b[1;33m)\u001b[0m\u001b[1;33m\u001b[0m\u001b[1;33m\u001b[0m\u001b[0m\n\u001b[0m\u001b[0;32m   1257\u001b[0m             \u001b[1;32mif\u001b[0m \u001b[0mself\u001b[0m\u001b[1;33m.\u001b[0m\u001b[0mretina\u001b[0m\u001b[1;33m:\u001b[0m\u001b[1;33m\u001b[0m\u001b[1;33m\u001b[0m\u001b[0m\n\u001b[0;32m   1258\u001b[0m                 \u001b[0mself\u001b[0m\u001b[1;33m.\u001b[0m\u001b[0m_retina_shape\u001b[0m\u001b[1;33m(\u001b[0m\u001b[1;33m)\u001b[0m\u001b[1;33m\u001b[0m\u001b[1;33m\u001b[0m\u001b[0m\n",
      "\u001b[1;32mC:\\ProgramData\\Anaconda3\\lib\\site-packages\\IPython\\core\\display.py\u001b[0m in \u001b[0;36mreload\u001b[1;34m(self)\u001b[0m\n\u001b[0;32m    653\u001b[0m         \u001b[1;34m\"\"\"Reload the raw data from file or URL.\"\"\"\u001b[0m\u001b[1;33m\u001b[0m\u001b[1;33m\u001b[0m\u001b[0m\n\u001b[0;32m    654\u001b[0m         \u001b[1;32mif\u001b[0m \u001b[0mself\u001b[0m\u001b[1;33m.\u001b[0m\u001b[0mfilename\u001b[0m \u001b[1;32mis\u001b[0m \u001b[1;32mnot\u001b[0m \u001b[1;32mNone\u001b[0m\u001b[1;33m:\u001b[0m\u001b[1;33m\u001b[0m\u001b[1;33m\u001b[0m\u001b[0m\n\u001b[1;32m--> 655\u001b[1;33m             \u001b[1;32mwith\u001b[0m \u001b[0mopen\u001b[0m\u001b[1;33m(\u001b[0m\u001b[0mself\u001b[0m\u001b[1;33m.\u001b[0m\u001b[0mfilename\u001b[0m\u001b[1;33m,\u001b[0m \u001b[0mself\u001b[0m\u001b[1;33m.\u001b[0m\u001b[0m_read_flags\u001b[0m\u001b[1;33m)\u001b[0m \u001b[1;32mas\u001b[0m \u001b[0mf\u001b[0m\u001b[1;33m:\u001b[0m\u001b[1;33m\u001b[0m\u001b[1;33m\u001b[0m\u001b[0m\n\u001b[0m\u001b[0;32m    656\u001b[0m                 \u001b[0mself\u001b[0m\u001b[1;33m.\u001b[0m\u001b[0mdata\u001b[0m \u001b[1;33m=\u001b[0m \u001b[0mf\u001b[0m\u001b[1;33m.\u001b[0m\u001b[0mread\u001b[0m\u001b[1;33m(\u001b[0m\u001b[1;33m)\u001b[0m\u001b[1;33m\u001b[0m\u001b[1;33m\u001b[0m\u001b[0m\n\u001b[0;32m    657\u001b[0m         \u001b[1;32melif\u001b[0m \u001b[0mself\u001b[0m\u001b[1;33m.\u001b[0m\u001b[0murl\u001b[0m \u001b[1;32mis\u001b[0m \u001b[1;32mnot\u001b[0m \u001b[1;32mNone\u001b[0m\u001b[1;33m:\u001b[0m\u001b[1;33m\u001b[0m\u001b[1;33m\u001b[0m\u001b[0m\n",
      "\u001b[1;31mFileNotFoundError\u001b[0m: [Errno 2] No such file or directory: 'MobileNet-inference-images/1.PNG'"
     ]
    }
   ],
   "source": [
    "from IPython.display import Image\n",
    "Image(filename='MobileNet-inference-images/1.PNG', width=300,height=200)"
   ]
  },
  {
   "cell_type": "code",
   "execution_count": 44,
   "metadata": {},
   "outputs": [],
   "source": [
    "#Import required packages\n",
    "from keras.models import Sequential\n",
    "from keras.layers import Dense\n",
    "import numpy as np"
   ]
  },
  {
   "cell_type": "code",
   "execution_count": 45,
   "metadata": {},
   "outputs": [],
   "source": [
    "np.random.seed(2018)"
   ]
  },
  {
   "cell_type": "code",
   "execution_count": 46,
   "metadata": {},
   "outputs": [],
   "source": [
    "train_data, test_data = np.random.random((1000,\n",
    "3)), np.random.random((500, 3))\n"
   ]
  },
  {
   "cell_type": "code",
   "execution_count": 47,
   "metadata": {},
   "outputs": [],
   "source": [
    "labels = np.random.randint(2, size=(1000, 1))"
   ]
  },
  {
   "cell_type": "code",
   "execution_count": 48,
   "metadata": {},
   "outputs": [],
   "source": [
    "model = Sequential()\n",
    "model.add(Dense(5, input_dim=3,\n",
    "activation=\"relu\"))\n",
    "model.add(Dense(4, activation=\"relu\"))\n",
    "model.add(Dense(1, activation=\"sigmoid\"))\n",
    "model.compile(loss='binary_crossentropy',\n",
    "optimizer=\"adam\", metrics=['accuracy'])\n"
   ]
  },
  {
   "cell_type": "code",
   "execution_count": 49,
   "metadata": {},
   "outputs": [
    {
     "name": "stdout",
     "output_type": "stream",
     "text": [
      "Epoch 1/10\n",
      "32/32 [==============================] - 0s 726us/step - loss: 0.6949 - accuracy: 0.5020\n",
      "Epoch 2/10\n",
      "32/32 [==============================] - 0s 728us/step - loss: 0.6939 - accuracy: 0.5000\n",
      "Epoch 3/10\n",
      "32/32 [==============================] - 0s 811us/step - loss: 0.6936 - accuracy: 0.4780\n",
      "Epoch 4/10\n",
      "32/32 [==============================] - 0s 779us/step - loss: 0.6935 - accuracy: 0.4910\n",
      "Epoch 5/10\n",
      "32/32 [==============================] - 0s 841us/step - loss: 0.6936 - accuracy: 0.4830\n",
      "Epoch 6/10\n",
      "32/32 [==============================] - 0s 717us/step - loss: 0.6935 - accuracy: 0.4920\n",
      "Epoch 7/10\n",
      "32/32 [==============================] - 0s 842us/step - loss: 0.6932 - accuracy: 0.4970\n",
      "Epoch 8/10\n",
      "32/32 [==============================] - 0s 810us/step - loss: 0.6932 - accuracy: 0.4840\n",
      "Epoch 9/10\n",
      "32/32 [==============================] - 0s 872us/step - loss: 0.6931 - accuracy: 0.4910\n",
      "Epoch 10/10\n",
      "32/32 [==============================] - 0s 873us/step - loss: 0.6929 - accuracy: 0.4970\n"
     ]
    }
   ],
   "source": [
    "model.fit(train_data, labels, epochs=10,\n",
    "batch_size=32)\n",
    "#Make predictions from the trained model\n",
    "predictions = model.predict(test_data)"
   ]
  },
  {
   "cell_type": "code",
   "execution_count": 50,
   "metadata": {},
   "outputs": [],
   "source": [
    "import numpy as np\n",
    "from keras.models import Sequential\n",
    "from keras.layers import Dense, Activation\n",
    "# Generate dummy training dataset\n",
    "np.random.seed(2018)\n",
    "x_train = np.random.random((6000,10))\n",
    "y_train = np.random.randint(2, size=(6000, 1))\n",
    "# Generate dummy validation dataset\n",
    "x_val = np.random.random((2000,10))\n",
    "y_val = np.random.randint(2, size=(2000, 1))\n",
    "# Generate dummy test dataset\n",
    "x_test = np.random.random((2000,10))\n",
    "y_test = np.random.randint(2, size=(2000, 1))\n"
   ]
  },
  {
   "cell_type": "code",
   "execution_count": 52,
   "metadata": {},
   "outputs": [],
   "source": [
    "model = Sequential()\n",
    "model.add(Dense(64, input_dim=10,activation =\n",
    "\"relu\")) #Layer 1\n",
    "model.add(Dense(32,activation =\n",
    "\"relu\")) #Layer 2\n",
    "model.add(Dense(16,activation =\n",
    "\"relu\")) #Layer 3\n",
    "model.add(Dense(8,activation =\n",
    "\"relu\")) \n",
    "model.add(Dense(4,activation =\n",
    "\"relu\")) #Layer 5\n",
    "model.add(Dense(1,activation =\n",
    "\"sigmoid\")) #Output Layer\n",
    "#Configure the model\n",
    "model.compile(optimizer='Adam',loss='binary_crossentropy',metrics=['accuracy'])\n"
   ]
  },
  {
   "cell_type": "code",
   "execution_count": 54,
   "metadata": {},
   "outputs": [
    {
     "name": "stdout",
     "output_type": "stream",
     "text": [
      "Epoch 1/10\n",
      "94/94 [==============================] - 0s 2ms/step - loss: 0.6932 - accuracy: 0.4990 - val_loss: 0.6930 - val_accuracy: 0.5070\n",
      "Epoch 2/10\n",
      "94/94 [==============================] - 0s 1ms/step - loss: 0.6934 - accuracy: 0.5082 - val_loss: 0.6932 - val_accuracy: 0.5000\n",
      "Epoch 3/10\n",
      "94/94 [==============================] - 0s 1ms/step - loss: 0.6932 - accuracy: 0.5012 - val_loss: 0.6932 - val_accuracy: 0.5005\n",
      "Epoch 4/10\n",
      "94/94 [==============================] - 0s 1ms/step - loss: 0.6932 - accuracy: 0.5007 - val_loss: 0.6932 - val_accuracy: 0.5005\n",
      "Epoch 5/10\n",
      "94/94 [==============================] - 0s 1ms/step - loss: 0.6932 - accuracy: 0.5013 - val_loss: 0.6931 - val_accuracy: 0.5025\n",
      "Epoch 6/10\n",
      "94/94 [==============================] - 0s 1ms/step - loss: 0.6932 - accuracy: 0.5015 - val_loss: 0.6931 - val_accuracy: 0.5005\n",
      "Epoch 7/10\n",
      "94/94 [==============================] - 0s 1ms/step - loss: 0.6932 - accuracy: 0.5005 - val_loss: 0.6931 - val_accuracy: 0.5005\n",
      "Epoch 8/10\n",
      "94/94 [==============================] - 0s 1ms/step - loss: 0.6932 - accuracy: 0.5003 - val_loss: 0.6932 - val_accuracy: 0.5005\n",
      "Epoch 9/10\n",
      "94/94 [==============================] - 0s 2ms/step - loss: 0.6932 - accuracy: 0.5008 - val_loss: 0.6932 - val_accuracy: 0.4960\n",
      "Epoch 10/10\n",
      "94/94 [==============================] - 0s 1ms/step - loss: 0.6932 - accuracy: 0.4937 - val_loss: 0.6932 - val_accuracy: 0.4995\n"
     ]
    },
    {
     "data": {
      "text/plain": [
       "<tensorflow.python.keras.callbacks.History at 0x22bc5bbef40>"
      ]
     },
     "execution_count": 54,
     "metadata": {},
     "output_type": "execute_result"
    }
   ],
   "source": [
    "model.fit(x_train, y_train, batch_size=64,\n",
    "epochs=10, validation_data=(x_val,y_val))"
   ]
  },
  {
   "cell_type": "code",
   "execution_count": 56,
   "metadata": {},
   "outputs": [
    {
     "name": "stdout",
     "output_type": "stream",
     "text": [
      "Downloading data from https://storage.googleapis.com/tensorflow/tf-keras-datasets/boston_housing.npz\n",
      "57344/57026 [==============================] - 0s 3us/step\n"
     ]
    }
   ],
   "source": [
    "from keras.datasets import boston_housing\n",
    "(x_train, y_train), (x_test, y_test) =boston_housing.load_data()"
   ]
  },
  {
   "cell_type": "code",
   "execution_count": 59,
   "metadata": {},
   "outputs": [
    {
     "name": "stdout",
     "output_type": "stream",
     "text": [
      "Type of the Dataset: <class 'numpy.ndarray'>\n",
      "Shape of training data : (404, 13)\n",
      "Shape of training labels: (404,)\n",
      "Shape of testing data : <class 'numpy.ndarray'>\n",
      "Shape of testing labels : (102,)\n"
     ]
    }
   ],
   "source": [
    "#Explore the data structure using basic python\n",
    "\n",
    "print(\"Type of the Dataset:\",type(y_train))\n",
    "print(\"Shape of training data :\",x_train.shape)\n",
    "print(\"Shape of training labels:\",y_train.shape)\n",
    "print(\"Shape of testing data :\",type(x_test))\n",
    "print(\"Shape of testing labels :\",y_test.shape)\n"
   ]
  },
  {
   "cell_type": "code",
   "execution_count": 61,
   "metadata": {},
   "outputs": [
    {
     "data": {
      "text/plain": [
       "array([[1.23247e+00, 0.00000e+00, 8.14000e+00, ..., 2.10000e+01,\n",
       "        3.96900e+02, 1.87200e+01],\n",
       "       [2.17700e-02, 8.25000e+01, 2.03000e+00, ..., 1.47000e+01,\n",
       "        3.95380e+02, 3.11000e+00],\n",
       "       [4.89822e+00, 0.00000e+00, 1.81000e+01, ..., 2.02000e+01,\n",
       "        3.75520e+02, 3.26000e+00],\n",
       "       ...,\n",
       "       [3.46600e-02, 3.50000e+01, 6.06000e+00, ..., 1.69000e+01,\n",
       "        3.62250e+02, 7.83000e+00],\n",
       "       [2.14918e+00, 0.00000e+00, 1.95800e+01, ..., 1.47000e+01,\n",
       "        2.61950e+02, 1.57900e+01],\n",
       "       [1.43900e-02, 6.00000e+01, 2.93000e+00, ..., 1.56000e+01,\n",
       "        3.76700e+02, 4.38000e+00]])"
      ]
     },
     "execution_count": 61,
     "metadata": {},
     "output_type": "execute_result"
    }
   ],
   "source": [
    "x_train"
   ]
  },
  {
   "cell_type": "code",
   "execution_count": 63,
   "metadata": {},
   "outputs": [],
   "source": [
    "import numpy as np\n",
    "from keras.models import Sequential\n",
    "from keras.layers import Dense, Activation\n",
    "#Extract the last 100 rows from the training.\n",
    "x_val = x_train[300:,]\n",
    "y_val = y_train[300:,]"
   ]
  },
  {
   "cell_type": "code",
   "execution_count": 64,
   "metadata": {},
   "outputs": [],
   "source": [
    "#Define the model architecture\n",
    "model = Sequential()\n",
    "model.add(Dense(13, input_dim=13,\n",
    "kernel_initializer=\"normal\", activation=\"relu\"))\n",
    "model.add(Dense(6, kernel_initializer=\"normal\",\n",
    "activation=\"relu\"))\n",
    "model.add(Dense(1, kernel_initializer=\"normal\"))\n",
    "# Compile model"
   ]
  },
  {
   "cell_type": "code",
   "execution_count": 67,
   "metadata": {},
   "outputs": [
    {
     "name": "stdout",
     "output_type": "stream",
     "text": [
      "Epoch 1/30\n",
      "13/13 [==============================] - 0s 8ms/step - loss: 305.1771 - mean_absolute_percentage_error: 61.0398 - val_loss: 302.9354 - val_mean_absolute_percentage_error: 52.0654\n",
      "Epoch 2/30\n",
      "13/13 [==============================] - 0s 2ms/step - loss: 198.6016 - mean_absolute_percentage_error: 44.5291 - val_loss: 187.7709 - val_mean_absolute_percentage_error: 35.8730\n",
      "Epoch 3/30\n",
      "13/13 [==============================] - 0s 2ms/step - loss: 124.2441 - mean_absolute_percentage_error: 36.7366 - val_loss: 126.2827 - val_mean_absolute_percentage_error: 33.8542\n",
      "Epoch 4/30\n",
      "13/13 [==============================] - 0s 2ms/step - loss: 102.4544 - mean_absolute_percentage_error: 39.2451 - val_loss: 116.5356 - val_mean_absolute_percentage_error: 36.8940\n",
      "Epoch 5/30\n",
      "13/13 [==============================] - 0s 2ms/step - loss: 101.3722 - mean_absolute_percentage_error: 40.2479 - val_loss: 113.7003 - val_mean_absolute_percentage_error: 34.7858\n",
      "Epoch 6/30\n",
      "13/13 [==============================] - 0s 2ms/step - loss: 95.9093 - mean_absolute_percentage_error: 37.1536 - val_loss: 111.9949 - val_mean_absolute_percentage_error: 32.5581\n",
      "Epoch 7/30\n",
      "13/13 [==============================] - 0s 2ms/step - loss: 92.3395 - mean_absolute_percentage_error: 35.2290 - val_loss: 109.3057 - val_mean_absolute_percentage_error: 31.2403\n",
      "Epoch 8/30\n",
      "13/13 [==============================] - 0s 2ms/step - loss: 88.8060 - mean_absolute_percentage_error: 34.3346 - val_loss: 104.8840 - val_mean_absolute_percentage_error: 30.8771\n",
      "Epoch 9/30\n",
      "13/13 [==============================] - 0s 2ms/step - loss: 85.3576 - mean_absolute_percentage_error: 33.8188 - val_loss: 101.2053 - val_mean_absolute_percentage_error: 30.3236\n",
      "Epoch 10/30\n",
      "13/13 [==============================] - 0s 2ms/step - loss: 82.2943 - mean_absolute_percentage_error: 33.5876 - val_loss: 98.0523 - val_mean_absolute_percentage_error: 29.5685\n",
      "Epoch 11/30\n",
      "13/13 [==============================] - 0s 2ms/step - loss: 79.3679 - mean_absolute_percentage_error: 32.3016 - val_loss: 96.5265 - val_mean_absolute_percentage_error: 28.0983\n",
      "Epoch 12/30\n",
      "13/13 [==============================] - 0s 2ms/step - loss: 76.7161 - mean_absolute_percentage_error: 31.2497 - val_loss: 93.2793 - val_mean_absolute_percentage_error: 27.7892\n",
      "Epoch 13/30\n",
      "13/13 [==============================] - 0s 2ms/step - loss: 74.7316 - mean_absolute_percentage_error: 32.1024 - val_loss: 90.4135 - val_mean_absolute_percentage_error: 27.5453\n",
      "Epoch 14/30\n",
      "13/13 [==============================] - 0s 3ms/step - loss: 72.4461 - mean_absolute_percentage_error: 30.0593 - val_loss: 90.4303 - val_mean_absolute_percentage_error: 25.6579\n",
      "Epoch 15/30\n",
      "13/13 [==============================] - 0s 2ms/step - loss: 70.7228 - mean_absolute_percentage_error: 30.6774 - val_loss: 86.7916 - val_mean_absolute_percentage_error: 26.3651\n",
      "Epoch 16/30\n",
      "13/13 [==============================] - 0s 2ms/step - loss: 68.7308 - mean_absolute_percentage_error: 29.3158 - val_loss: 87.4516 - val_mean_absolute_percentage_error: 24.7622\n",
      "Epoch 17/30\n",
      "13/13 [==============================] - 0s 2ms/step - loss: 67.0950 - mean_absolute_percentage_error: 28.9866 - val_loss: 84.8605 - val_mean_absolute_percentage_error: 25.2377\n",
      "Epoch 18/30\n",
      "13/13 [==============================] - 0s 2ms/step - loss: 65.7514 - mean_absolute_percentage_error: 29.5805 - val_loss: 83.9203 - val_mean_absolute_percentage_error: 25.0150\n",
      "Epoch 19/30\n",
      "13/13 [==============================] - 0s 3ms/step - loss: 64.6794 - mean_absolute_percentage_error: 28.4139 - val_loss: 84.8008 - val_mean_absolute_percentage_error: 23.8617\n",
      "Epoch 20/30\n",
      "13/13 [==============================] - 0s 2ms/step - loss: 63.6863 - mean_absolute_percentage_error: 27.8505 - val_loss: 83.4416 - val_mean_absolute_percentage_error: 24.0260\n",
      "Epoch 21/30\n",
      "13/13 [==============================] - 0s 2ms/step - loss: 62.8828 - mean_absolute_percentage_error: 28.2522 - val_loss: 82.2205 - val_mean_absolute_percentage_error: 24.3324\n",
      "Epoch 22/30\n",
      "13/13 [==============================] - 0s 2ms/step - loss: 62.2752 - mean_absolute_percentage_error: 27.0134 - val_loss: 83.7728 - val_mean_absolute_percentage_error: 23.2249\n",
      "Epoch 23/30\n",
      "13/13 [==============================] - 0s 2ms/step - loss: 61.2837 - mean_absolute_percentage_error: 26.7866 - val_loss: 81.1470 - val_mean_absolute_percentage_error: 24.3532\n",
      "Epoch 24/30\n",
      "13/13 [==============================] - 0s 2ms/step - loss: 60.8889 - mean_absolute_percentage_error: 28.0581 - val_loss: 81.0638 - val_mean_absolute_percentage_error: 24.0678\n",
      "Epoch 25/30\n",
      "13/13 [==============================] - 0s 2ms/step - loss: 60.0656 - mean_absolute_percentage_error: 26.8914 - val_loss: 82.1513 - val_mean_absolute_percentage_error: 23.1307\n",
      "Epoch 26/30\n",
      "13/13 [==============================] - 0s 2ms/step - loss: 59.8005 - mean_absolute_percentage_error: 26.2401 - val_loss: 81.6540 - val_mean_absolute_percentage_error: 23.1639\n",
      "Epoch 27/30\n",
      "13/13 [==============================] - 0s 2ms/step - loss: 59.5360 - mean_absolute_percentage_error: 25.8278 - val_loss: 80.3774 - val_mean_absolute_percentage_error: 23.7195\n",
      "Epoch 28/30\n",
      "13/13 [==============================] - 0s 2ms/step - loss: 58.9012 - mean_absolute_percentage_error: 26.6398 - val_loss: 80.0260 - val_mean_absolute_percentage_error: 23.6805\n",
      "Epoch 29/30\n",
      "13/13 [==============================] - 0s 2ms/step - loss: 58.6836 - mean_absolute_percentage_error: 25.6710 - val_loss: 81.0803 - val_mean_absolute_percentage_error: 22.8307\n",
      "Epoch 30/30\n",
      "13/13 [==============================] - 0s 2ms/step - loss: 58.3528 - mean_absolute_percentage_error: 26.3678 - val_loss: 79.2543 - val_mean_absolute_percentage_error: 23.7874\n"
     ]
    },
    {
     "data": {
      "text/plain": [
       "<tensorflow.python.keras.callbacks.History at 0x22bc7a4b5b0>"
      ]
     },
     "execution_count": 67,
     "metadata": {},
     "output_type": "execute_result"
    }
   ],
   "source": [
    "model.compile(loss='mean_squared_error',\n",
    "optimizer=\"adam\", metrics=\n",
    "['mean_absolute_percentage_error'])\n",
    "#Train the model\n",
    "model.fit(x_train, y_train, batch_size=32,\n",
    "epochs=30, validation_data=(x_val,y_val))\n"
   ]
  },
  {
   "cell_type": "code",
   "execution_count": 68,
   "metadata": {},
   "outputs": [
    {
     "name": "stdout",
     "output_type": "stream",
     "text": [
      "4/4 [==============================] - 0s 746us/step - loss: 61.6945 - mean_absolute_percentage_error: 30.0469\n",
      "loss  :  61.69450759887695\n",
      "mean_absolute_percentage_error  :  30.046911239624023\n"
     ]
    }
   ],
   "source": [
    "results = model.evaluate(x_test, y_test)\n",
    "for i in range(len(model.metrics_names)):\n",
    " print(model.metrics_names[i],\" : \",results[i])\n"
   ]
  },
  {
   "cell_type": "code",
   "execution_count": 70,
   "metadata": {},
   "outputs": [
    {
     "name": "stderr",
     "output_type": "stream",
     "text": [
      "C:\\ProgramData\\Anaconda3\\lib\\site-packages\\IPython\\core\\interactiveshell.py:3071: DtypeWarning: Columns (7) have mixed types.Specify dtype option on import or set low_memory=False.\n",
      "  has_raised = await self.run_ast_nodes(code_ast.body, cell_name,\n"
     ]
    }
   ],
   "source": [
    "import pandas as pd\n",
    "df = pd.read_csv(r\"C:\\Users\\Jojo\\Downloads/train.csv\")\n"
   ]
  },
  {
   "cell_type": "code",
   "execution_count": 71,
   "metadata": {},
   "outputs": [
    {
     "name": "stdout",
     "output_type": "stream",
     "text": [
      "Shape of the Dataset: (1017209, 9)\n"
     ]
    },
    {
     "data": {
      "text/html": [
       "<div>\n",
       "<style scoped>\n",
       "    .dataframe tbody tr th:only-of-type {\n",
       "        vertical-align: middle;\n",
       "    }\n",
       "\n",
       "    .dataframe tbody tr th {\n",
       "        vertical-align: top;\n",
       "    }\n",
       "\n",
       "    .dataframe thead th {\n",
       "        text-align: right;\n",
       "    }\n",
       "</style>\n",
       "<table border=\"1\" class=\"dataframe\">\n",
       "  <thead>\n",
       "    <tr style=\"text-align: right;\">\n",
       "      <th></th>\n",
       "      <th>Store</th>\n",
       "      <th>DayOfWeek</th>\n",
       "      <th>Date</th>\n",
       "      <th>Sales</th>\n",
       "      <th>Customers</th>\n",
       "      <th>Open</th>\n",
       "      <th>Promo</th>\n",
       "      <th>StateHoliday</th>\n",
       "      <th>SchoolHoliday</th>\n",
       "    </tr>\n",
       "  </thead>\n",
       "  <tbody>\n",
       "    <tr>\n",
       "      <th>0</th>\n",
       "      <td>1</td>\n",
       "      <td>5</td>\n",
       "      <td>2015-07-31</td>\n",
       "      <td>5263</td>\n",
       "      <td>555</td>\n",
       "      <td>1</td>\n",
       "      <td>1</td>\n",
       "      <td>0</td>\n",
       "      <td>1</td>\n",
       "    </tr>\n",
       "    <tr>\n",
       "      <th>1</th>\n",
       "      <td>2</td>\n",
       "      <td>5</td>\n",
       "      <td>2015-07-31</td>\n",
       "      <td>6064</td>\n",
       "      <td>625</td>\n",
       "      <td>1</td>\n",
       "      <td>1</td>\n",
       "      <td>0</td>\n",
       "      <td>1</td>\n",
       "    </tr>\n",
       "    <tr>\n",
       "      <th>2</th>\n",
       "      <td>3</td>\n",
       "      <td>5</td>\n",
       "      <td>2015-07-31</td>\n",
       "      <td>8314</td>\n",
       "      <td>821</td>\n",
       "      <td>1</td>\n",
       "      <td>1</td>\n",
       "      <td>0</td>\n",
       "      <td>1</td>\n",
       "    </tr>\n",
       "    <tr>\n",
       "      <th>3</th>\n",
       "      <td>4</td>\n",
       "      <td>5</td>\n",
       "      <td>2015-07-31</td>\n",
       "      <td>13995</td>\n",
       "      <td>1498</td>\n",
       "      <td>1</td>\n",
       "      <td>1</td>\n",
       "      <td>0</td>\n",
       "      <td>1</td>\n",
       "    </tr>\n",
       "    <tr>\n",
       "      <th>4</th>\n",
       "      <td>5</td>\n",
       "      <td>5</td>\n",
       "      <td>2015-07-31</td>\n",
       "      <td>4822</td>\n",
       "      <td>559</td>\n",
       "      <td>1</td>\n",
       "      <td>1</td>\n",
       "      <td>0</td>\n",
       "      <td>1</td>\n",
       "    </tr>\n",
       "  </tbody>\n",
       "</table>\n",
       "</div>"
      ],
      "text/plain": [
       "   Store  DayOfWeek        Date  Sales  Customers  Open  Promo StateHoliday  \\\n",
       "0      1          5  2015-07-31   5263        555     1      1            0   \n",
       "1      2          5  2015-07-31   6064        625     1      1            0   \n",
       "2      3          5  2015-07-31   8314        821     1      1            0   \n",
       "3      4          5  2015-07-31  13995       1498     1      1            0   \n",
       "4      5          5  2015-07-31   4822        559     1      1            0   \n",
       "\n",
       "   SchoolHoliday  \n",
       "0              1  \n",
       "1              1  \n",
       "2              1  \n",
       "3              1  \n",
       "4              1  "
      ]
     },
     "execution_count": 71,
     "metadata": {},
     "output_type": "execute_result"
    }
   ],
   "source": [
    "print(\"Shape of the Dataset:\",df.shape)\n",
    "#the head method displays the first 5 rows of the data\n",
    "df.head(5)\n"
   ]
  },
  {
   "cell_type": "code",
   "execution_count": 73,
   "metadata": {},
   "outputs": [
    {
     "name": "stdout",
     "output_type": "stream",
     "text": [
      "Shape of the Dataset: (1115, 10)\n"
     ]
    },
    {
     "data": {
      "text/html": [
       "<div>\n",
       "<style scoped>\n",
       "    .dataframe tbody tr th:only-of-type {\n",
       "        vertical-align: middle;\n",
       "    }\n",
       "\n",
       "    .dataframe tbody tr th {\n",
       "        vertical-align: top;\n",
       "    }\n",
       "\n",
       "    .dataframe thead th {\n",
       "        text-align: right;\n",
       "    }\n",
       "</style>\n",
       "<table border=\"1\" class=\"dataframe\">\n",
       "  <thead>\n",
       "    <tr style=\"text-align: right;\">\n",
       "      <th></th>\n",
       "      <th>Store</th>\n",
       "      <th>StoreType</th>\n",
       "      <th>Assortment</th>\n",
       "      <th>CompetitionDistance</th>\n",
       "      <th>CompetitionOpenSinceMonth</th>\n",
       "      <th>CompetitionOpenSinceYear</th>\n",
       "      <th>Promo2</th>\n",
       "      <th>Promo2SinceWeek</th>\n",
       "      <th>Promo2SinceYear</th>\n",
       "      <th>PromoInterval</th>\n",
       "    </tr>\n",
       "  </thead>\n",
       "  <tbody>\n",
       "    <tr>\n",
       "      <th>0</th>\n",
       "      <td>1</td>\n",
       "      <td>c</td>\n",
       "      <td>a</td>\n",
       "      <td>1270.0</td>\n",
       "      <td>9.0</td>\n",
       "      <td>2008.0</td>\n",
       "      <td>0</td>\n",
       "      <td>NaN</td>\n",
       "      <td>NaN</td>\n",
       "      <td>NaN</td>\n",
       "    </tr>\n",
       "    <tr>\n",
       "      <th>1</th>\n",
       "      <td>2</td>\n",
       "      <td>a</td>\n",
       "      <td>a</td>\n",
       "      <td>570.0</td>\n",
       "      <td>11.0</td>\n",
       "      <td>2007.0</td>\n",
       "      <td>1</td>\n",
       "      <td>13.0</td>\n",
       "      <td>2010.0</td>\n",
       "      <td>Jan,Apr,Jul,Oct</td>\n",
       "    </tr>\n",
       "    <tr>\n",
       "      <th>2</th>\n",
       "      <td>3</td>\n",
       "      <td>a</td>\n",
       "      <td>a</td>\n",
       "      <td>14130.0</td>\n",
       "      <td>12.0</td>\n",
       "      <td>2006.0</td>\n",
       "      <td>1</td>\n",
       "      <td>14.0</td>\n",
       "      <td>2011.0</td>\n",
       "      <td>Jan,Apr,Jul,Oct</td>\n",
       "    </tr>\n",
       "    <tr>\n",
       "      <th>3</th>\n",
       "      <td>4</td>\n",
       "      <td>c</td>\n",
       "      <td>c</td>\n",
       "      <td>620.0</td>\n",
       "      <td>9.0</td>\n",
       "      <td>2009.0</td>\n",
       "      <td>0</td>\n",
       "      <td>NaN</td>\n",
       "      <td>NaN</td>\n",
       "      <td>NaN</td>\n",
       "    </tr>\n",
       "    <tr>\n",
       "      <th>4</th>\n",
       "      <td>5</td>\n",
       "      <td>a</td>\n",
       "      <td>a</td>\n",
       "      <td>29910.0</td>\n",
       "      <td>4.0</td>\n",
       "      <td>2015.0</td>\n",
       "      <td>0</td>\n",
       "      <td>NaN</td>\n",
       "      <td>NaN</td>\n",
       "      <td>NaN</td>\n",
       "    </tr>\n",
       "  </tbody>\n",
       "</table>\n",
       "</div>"
      ],
      "text/plain": [
       "   Store StoreType Assortment  CompetitionDistance  CompetitionOpenSinceMonth  \\\n",
       "0      1         c          a               1270.0                        9.0   \n",
       "1      2         a          a                570.0                       11.0   \n",
       "2      3         a          a              14130.0                       12.0   \n",
       "3      4         c          c                620.0                        9.0   \n",
       "4      5         a          a              29910.0                        4.0   \n",
       "\n",
       "   CompetitionOpenSinceYear  Promo2  Promo2SinceWeek  Promo2SinceYear  \\\n",
       "0                    2008.0       0              NaN              NaN   \n",
       "1                    2007.0       1             13.0           2010.0   \n",
       "2                    2006.0       1             14.0           2011.0   \n",
       "3                    2009.0       0              NaN              NaN   \n",
       "4                    2015.0       0              NaN              NaN   \n",
       "\n",
       "     PromoInterval  \n",
       "0              NaN  \n",
       "1  Jan,Apr,Jul,Oct  \n",
       "2  Jan,Apr,Jul,Oct  \n",
       "3              NaN  \n",
       "4              NaN  "
      ]
     },
     "execution_count": 73,
     "metadata": {},
     "output_type": "execute_result"
    }
   ],
   "source": [
    "store =pd.read_csv(r\"C:\\Users\\Jojo\\Downloads/store.csv\")\n",
    "print(\"Shape of the Dataset:\",store.shape)\n",
    "#Display the first 5 rows of data using the head\n",
    "\n",
    "store.head(5)"
   ]
  },
  {
   "cell_type": "code",
   "execution_count": 74,
   "metadata": {},
   "outputs": [
    {
     "name": "stdout",
     "output_type": "stream",
     "text": [
      "(1017209, 18)\n"
     ]
    }
   ],
   "source": [
    "df_new = df.merge(store,on=[\"Store\"],how=\"inner\")\n",
    "print(df_new.shape)"
   ]
  },
  {
   "cell_type": "code",
   "execution_count": 75,
   "metadata": {},
   "outputs": [
    {
     "name": "stdout",
     "output_type": "stream",
     "text": [
      "Distinct number of Stores : 1115\n",
      "Distinct number of Days : 942\n",
      "Average daily sales of all stores : 5773.82\n"
     ]
    }
   ],
   "source": [
    "print(\"Distinct number of Stores :\",len(df_new[\"Store\"].unique()))\n",
    "print(\"Distinct number of Days :\",len(df_new[\"Date\"].unique()))\n",
    "print(\"Average daily sales of all stores :\",round(df_new[\"Sales\"].mean(),2))"
   ]
  },
  {
   "cell_type": "code",
   "execution_count": 76,
   "metadata": {},
   "outputs": [
    {
     "data": {
      "text/plain": [
       "Store                          int64\n",
       "DayOfWeek                      int64\n",
       "Date                          object\n",
       "Sales                          int64\n",
       "Customers                      int64\n",
       "Open                           int64\n",
       "Promo                          int64\n",
       "StateHoliday                  object\n",
       "SchoolHoliday                  int64\n",
       "StoreType                     object\n",
       "Assortment                    object\n",
       "CompetitionDistance          float64\n",
       "CompetitionOpenSinceMonth    float64\n",
       "CompetitionOpenSinceYear     float64\n",
       "Promo2                         int64\n",
       "Promo2SinceWeek              float64\n",
       "Promo2SinceYear              float64\n",
       "PromoInterval                 object\n",
       "dtype: object"
      ]
     },
     "execution_count": 76,
     "metadata": {},
     "output_type": "execute_result"
    }
   ],
   "source": [
    "df_new.dtypes\n"
   ]
  },
  {
   "cell_type": "code",
   "execution_count": 77,
   "metadata": {},
   "outputs": [
    {
     "data": {
      "text/plain": [
       "5    145845\n",
       "4    145845\n",
       "3    145665\n",
       "2    145664\n",
       "7    144730\n",
       "6    144730\n",
       "1    144730\n",
       "Name: DayOfWeek, dtype: int64"
      ]
     },
     "execution_count": 77,
     "metadata": {},
     "output_type": "execute_result"
    }
   ],
   "source": [
    "df_new[\"DayOfWeek\"].value_counts()"
   ]
  },
  {
   "cell_type": "code",
   "execution_count": 78,
   "metadata": {},
   "outputs": [],
   "source": [
    "import numpy as np\n",
    "df_new['Date'] = pd.to_datetime(df_new['Date'],\n",
    "infer_datetime_format=True)\n",
    "df_new[\"Month\"] = df_new[\"Date\"].dt.month\n",
    "df_new[\"Quarter\"] = df_new[\"Date\"].dt.quarter\n",
    "df_new[\"Year\"] = df_new[\"Date\"].dt.year\n",
    "df_new[\"Day\"] = df_new[\"Date\"].dt.day\n",
    "df_new[\"Week\"] = df_new[\"Date\"].dt.week"
   ]
  },
  {
   "cell_type": "code",
   "execution_count": 79,
   "metadata": {},
   "outputs": [],
   "source": [
    "df_new[\"Season\"] =np.where(df_new[\"Month\"].isin([3,4,5]),\"Spring\",np.where(df_new[\"Month\"].isin([6,7,8]),\"Summer\",\n",
    " np.where(df_new[\"Month\"].isin([9,10,11]),\"Fall\",np.where(df_new[\"Month\"].isin([12,1,2]),\"Winter\",\"None\"))))\n"
   ]
  },
  {
   "cell_type": "code",
   "execution_count": 80,
   "metadata": {},
   "outputs": [
    {
     "name": "stdout",
     "output_type": "stream",
     "text": [
      "        Date  Year  Month  Day  Week  Quarter  Season\n",
      "0 2015-07-31  2015      7   31    31        3  Summer\n",
      "1 2015-07-30  2015      7   30    31        3  Summer\n",
      "2 2015-07-29  2015      7   29    31        3  Summer\n",
      "3 2015-07-28  2015      7   28    31        3  Summer\n",
      "4 2015-07-27  2015      7   27    31        3  Summer\n"
     ]
    }
   ],
   "source": [
    "print(df_new[[\"Date\",\"Year\",\"Month\",\"Day\",\"Week\"\n",
    ",\"Quarter\",\"Season\"]].head())"
   ]
  },
  {
   "cell_type": "code",
   "execution_count": 83,
   "metadata": {},
   "outputs": [
    {
     "data": {
      "image/png": "[encoded data removed]",
      "text/plain": [
       "<Figure size 1080x576 with 1 Axes>"
      ]
     },
     "metadata": {
      "needs_background": "light"
     },
     "output_type": "display_data"
    }
   ],
   "source": [
    "\n",
    "import matplotlib.pyplot as plt\n",
    "%matplotlib inline\n",
    "\n",
    "plt.figure(figsize=(15,8))\n",
    "plt.hist(df_new[\"Sales\"])\n",
    "plt.title(\"Histogram for Store Sales\")\n",
    "plt.xlabel(\"bins\")\n",
    "plt.xlabel(\"Frequency\")\n",
    "plt.show()\n"
   ]
  },
  {
   "cell_type": "code",
   "execution_count": 85,
   "metadata": {},
   "outputs": [
    {
     "data": {
      "image/png": "[encoded data removed]",
      "text/plain": [
       "<Figure size 1440x720 with 20 Axes>"
      ]
     },
     "metadata": {
      "needs_background": "light"
     },
     "output_type": "display_data"
    }
   ],
   "source": [
    "df_new.hist(figsize=(20,10))\n",
    "plt.show()"
   ]
  },
  {
   "cell_type": "code",
   "execution_count": 86,
   "metadata": {},
   "outputs": [
    {
     "data": {
      "text/plain": [
       "Store                         0.000000\n",
       "DayOfWeek                     0.000000\n",
       "Date                          0.000000\n",
       "Sales                         0.000000\n",
       "Customers                     0.000000\n",
       "Open                          0.000000\n",
       "Promo                         0.000000\n",
       "StateHoliday                  0.000000\n",
       "SchoolHoliday                 0.000000\n",
       "StoreType                     0.000000\n",
       "Assortment                    0.000000\n",
       "CompetitionDistance           0.259730\n",
       "CompetitionOpenSinceMonth    31.787764\n",
       "CompetitionOpenSinceYear     31.787764\n",
       "Promo2                        0.000000\n",
       "Promo2SinceWeek              49.943620\n",
       "Promo2SinceYear              49.943620\n",
       "PromoInterval                49.943620\n",
       "Month                         0.000000\n",
       "Quarter                       0.000000\n",
       "Year                          0.000000\n",
       "Day                           0.000000\n",
       "Week                          0.000000\n",
       "Season                        0.000000\n",
       "dtype: float64"
      ]
     },
     "execution_count": 86,
     "metadata": {},
     "output_type": "execute_result"
    }
   ],
   "source": [
    "df_new.isnull().sum()/df_new.shape[0] * 100"
   ]
  },
  {
   "cell_type": "code",
   "execution_count": 87,
   "metadata": {},
   "outputs": [
    {
     "data": {
      "text/plain": [
       "0    250.0\n",
       "dtype: float64"
      ]
     },
     "execution_count": 87,
     "metadata": {},
     "output_type": "execute_result"
    }
   ],
   "source": [
    "df_new[\"CompetitionDistance\"].mode()"
   ]
  },
  {
   "cell_type": "code",
   "execution_count": 89,
   "metadata": {},
   "outputs": [],
   "source": [
    "df_new[\"CompetitionDistance\"]=df_new[\"CompetitionDistance\"].fillna(df_new[\"CompetitionDistance\"].mode()[0])"
   ]
  },
  {
   "cell_type": "code",
   "execution_count": 91,
   "metadata": {},
   "outputs": [
    {
     "data": {
      "text/plain": [
       "0.0"
      ]
     },
     "execution_count": 91,
     "metadata": {},
     "output_type": "execute_result"
    }
   ],
   "source": [
    "df_new[\"CompetitionDistance\"].isnull().sum()/df_new.shape[0] * 100"
   ]
  },
  {
   "cell_type": "code",
   "execution_count": 92,
   "metadata": {},
   "outputs": [
    {
     "data": {
      "image/png": "[encoded data removed]",
      "text/plain": [
       "<Figure size 432x288 with 1 Axes>"
      ]
     },
     "metadata": {
      "needs_background": "light"
     },
     "output_type": "display_data"
    }
   ],
   "source": [
    "import seaborn as sns \n",
    "ax = sns.barplot(x=\"Season\", y=\"Sales\",\n",
    "data=df_new)"
   ]
  },
  {
   "cell_type": "code",
   "execution_count": 93,
   "metadata": {},
   "outputs": [
    {
     "data": {
      "image/png": "[encoded data removed]",
      "text/plain": [
       "<Figure size 432x288 with 1 Axes>"
      ]
     },
     "metadata": {
      "needs_background": "light"
     },
     "output_type": "display_data"
    }
   ],
   "source": [
    "ax = sns.barplot(x=\"Assortment\", y=\"Sales\",\n",
    "data=df_new)"
   ]
  },
  {
   "cell_type": "code",
   "execution_count": 94,
   "metadata": {},
   "outputs": [
    {
     "data": {
      "image/png": "[encoded data removed]",
      "text/plain": [
       "<Figure size 432x288 with 1 Axes>"
      ]
     },
     "metadata": {
      "needs_background": "light"
     },
     "output_type": "display_data"
    }
   ],
   "source": [
    "ax = sns.barplot(x=\"StoreType\", y=\"Sales\",\n",
    "data=df_new)"
   ]
  },
  {
   "cell_type": "code",
   "execution_count": 96,
   "metadata": {},
   "outputs": [],
   "source": [
    "from sklearn.preprocessing import LabelEncoder\n",
    "from sklearn.preprocessing import OneHotEncoder\n",
    "target = [\"Sales\"]\n",
    "numeric_columns =[\"Customers\",\"Open\",\"Promo\",\"Promo2\",\"StateHoliday\",\"SchoolHoliday\",\"CompetitionDistance\"]\n",
    "categorical_columns =[\"DayOfWeek\",\"Quarter\",\"Month\",\"Year\",\n",
    "\"StoreType\",\"Assortment\",\"Season\"]"
   ]
  },
  {
   "cell_type": "code",
   "execution_count": 97,
   "metadata": {},
   "outputs": [],
   "source": [
    "def create_ohe(df, col):\n",
    "    le = LabelEncoder()\n",
    "    a=le.fit_transform(df_new[col]).reshape(-1,1)\n",
    "    ohe = OneHotEncoder(sparse=False)\n",
    "    column_names = [col+ \"_\"+ str(i) for i in le.classes_]\n",
    "    return(pd.DataFrame(ohe.fit_transform(a),columns=column_names))\n"
   ]
  },
  {
   "cell_type": "code",
   "execution_count": 98,
   "metadata": {},
   "outputs": [],
   "source": [
    "temp = df_new[numeric_columns]\n",
    "for column in categorical_columns:\n",
    " temp_df = create_ohe(df_new,column)\n",
    " temp = pd.concat([temp,temp_df],axis=1)"
   ]
  },
  {
   "cell_type": "code",
   "execution_count": 99,
   "metadata": {},
   "outputs": [
    {
     "name": "stdout",
     "output_type": "stream",
     "text": [
      "Shape of Data: (1017209, 44)\n",
      "DistinctDatatypes: [dtype('int64') dtype('O') dtype('float64')]\n"
     ]
    }
   ],
   "source": [
    "print(\"Shape of Data:\",temp.shape)\n",
    "print(\"DistinctDatatypes:\",temp.dtypes.unique())\n"
   ]
  },
  {
   "cell_type": "code",
   "execution_count": 100,
   "metadata": {},
   "outputs": [
    {
     "name": "stdout",
     "output_type": "stream",
     "text": [
      "Index(['StateHoliday'], dtype='object')\n"
     ]
    }
   ],
   "source": [
    "print(temp.columns[temp.dtypes==\"object\"])"
   ]
  },
  {
   "cell_type": "code",
   "execution_count": 101,
   "metadata": {},
   "outputs": [
    {
     "data": {
      "text/plain": [
       "array(['0', 'a', 'b', 'c', 0], dtype=object)"
      ]
     },
     "execution_count": 101,
     "metadata": {},
     "output_type": "execute_result"
    }
   ],
   "source": [
    "temp[\"StateHoliday\"].unique()"
   ]
  },
  {
   "cell_type": "code",
   "execution_count": 102,
   "metadata": {},
   "outputs": [
    {
     "data": {
      "text/plain": [
       "array([dtype('int64'), dtype('int32'), dtype('float64')], dtype=object)"
      ]
     },
     "execution_count": 102,
     "metadata": {},
     "output_type": "execute_result"
    }
   ],
   "source": [
    "temp[\"StateHoliday\"]=np.where(temp[\"StateHoliday\"]== '0',0,1)\n",
    "#One last check of the data type\n",
    "temp.dtypes.unique()"
   ]
  },
  {
   "cell_type": "code",
   "execution_count": 105,
   "metadata": {},
   "outputs": [],
   "source": [
    "from sklearn.model_selection import train_test_split\n",
    "x_train, x_test, y_train, y_test =train_test_split(temp,df_new[target],test_size=0.2,random_state=2018)\n",
    "x_train, x_val, y_train, y_val =train_test_split(x_train,y_train,test_size=0.1,random_state=2018)"
   ]
  },
  {
   "cell_type": "code",
   "execution_count": 106,
   "metadata": {},
   "outputs": [
    {
     "name": "stdout",
     "output_type": "stream",
     "text": [
      "Shape of x_train: (732390, 44)\n",
      "Shape of x_val: (81377, 44)\n",
      "Shape of x_test: (203442, 44)\n",
      "Shape of y_train: (732390, 1)\n",
      "Shape of y_val: (81377, 1)\n",
      "Shape of y_test: (203442, 1)\n"
     ]
    }
   ],
   "source": [
    "print(\"Shape of x_train:\",x_train.shape)\n",
    "print(\"Shape of x_val:\",x_val.shape)\n",
    "print(\"Shape of x_test:\",x_test.shape)\n",
    "print(\"Shape of y_train:\",y_train.shape)\n",
    "print(\"Shape of y_val:\",y_val.shape)\n",
    "print(\"Shape of y_test:\",y_test.shape)"
   ]
  },
  {
   "cell_type": "code",
   "execution_count": 107,
   "metadata": {},
   "outputs": [
    {
     "name": "stdout",
     "output_type": "stream",
     "text": [
      "Average Sales : Sales    5773.099997\n",
      "dtype: float64\n"
     ]
    }
   ],
   "source": [
    "mean_sales = y_train.mean()\n",
    "print(\"Average Sales :\",mean_sales)"
   ]
  },
  {
   "cell_type": "code",
   "execution_count": 108,
   "metadata": {},
   "outputs": [
    {
     "name": "stdout",
     "output_type": "stream",
     "text": [
      "MAE for Test Data: 2883.587604303215\n"
     ]
    }
   ],
   "source": [
    "print(\"MAE for Test Data:\",abs(y_test -mean_sales).mean()[0])\n"
   ]
  },
  {
   "cell_type": "code",
   "execution_count": 109,
   "metadata": {},
   "outputs": [
    {
     "name": "stdout",
     "output_type": "stream",
     "text": [
      "Epoch 1/10\n",
      "11444/11444 [==============================] - 9s 798us/step - loss: 953.4782 - mean_absolute_error: 953.4782 - val_loss: 831.7196 - val_mean_absolute_error: 831.7196\n",
      "Epoch 2/10\n",
      "11444/11444 [==============================] - 8s 694us/step - loss: 786.6789 - mean_absolute_error: 786.6789 - val_loss: 747.5573 - val_mean_absolute_error: 747.5573\n",
      "Epoch 3/10\n",
      "11444/11444 [==============================] - 8s 695us/step - loss: 742.9788 - mean_absolute_error: 742.9788 - val_loss: 728.7723 - val_mean_absolute_error: 728.7723\n",
      "Epoch 4/10\n",
      "11444/11444 [==============================] - 8s 671us/step - loss: 725.3604 - mean_absolute_error: 725.3604 - val_loss: 724.5439 - val_mean_absolute_error: 724.5439\n",
      "Epoch 5/10\n",
      "11444/11444 [==============================] - 8s 673us/step - loss: 713.7603 - mean_absolute_error: 713.7603 - val_loss: 703.3583 - val_mean_absolute_error: 703.3583\n",
      "Epoch 6/10\n",
      "11444/11444 [==============================] - 8s 670us/step - loss: 706.5028 - mean_absolute_error: 706.5028 - val_loss: 704.7925 - val_mean_absolute_error: 704.7925\n",
      "Epoch 7/10\n",
      "11444/11444 [==============================] - 8s 700us/step - loss: 700.4488 - mean_absolute_error: 700.4488 - val_loss: 702.2021 - val_mean_absolute_error: 702.2021\n",
      "Epoch 8/10\n",
      "11444/11444 [==============================] - 8s 678us/step - loss: 696.1998 - mean_absolute_error: 696.1998 - val_loss: 686.3160 - val_mean_absolute_error: 686.3160\n",
      "Epoch 9/10\n",
      "11444/11444 [==============================] - 8s 682us/step - loss: 691.4741 - mean_absolute_error: 691.4741 - val_loss: 682.5942 - val_mean_absolute_error: 682.5942\n",
      "Epoch 10/10\n",
      "11444/11444 [==============================] - 8s 666us/step - loss: 688.1053 - mean_absolute_error: 688.1053 - val_loss: 679.6915 - val_mean_absolute_error: 679.6915\n"
     ]
    },
    {
     "data": {
      "text/plain": [
       "<tensorflow.python.keras.callbacks.History at 0x22bd759eb50>"
      ]
     },
     "execution_count": 109,
     "metadata": {},
     "output_type": "execute_result"
    }
   ],
   "source": [
    "model = Sequential()\n",
    "model.add(Dense(150,input_dim =44,activation=\"relu\"))\n",
    "model.add(Dense(1,activation = \"linear\"))\n",
    "model.compile(optimizer='adam',loss=\"mean_absolute_error\",metrics=[\"mean_absolute_error\"])\n",
    "model.fit(x_train.values,y_train.values,validation_data=(x_val,y_val),epochs=10,batch_size=64)"
   ]
  },
  {
   "cell_type": "code",
   "execution_count": 110,
   "metadata": {},
   "outputs": [
    {
     "name": "stdout",
     "output_type": "stream",
     "text": [
      "6358/6358 [==============================] - 5s 863us/step - loss: 676.2997 - mean_absolute_error: 676.2997\n",
      "Metric loss : 676.3\n",
      "Metric mean_absolute_error : 676.3\n"
     ]
    }
   ],
   "source": [
    "result =model.evaluate(x_test.values,y_test.values)\n",
    "#Print the results\n",
    "for i in range(len(model.metrics_names)):\n",
    "    print(\"Metric\",model.metrics_names[i],\":\",str(round(result[i],2)))\n"
   ]
  },
  {
   "cell_type": "code",
   "execution_count": 112,
   "metadata": {},
   "outputs": [],
   "source": [
    "model = Sequential()\n",
    "model.add(Dense(150,input_dim =\n",
    "44,activation=\"relu\"))\n",
    "model.add(Dense(150,activation=\"relu\"))\n",
    "model.add(Dense(150,activation=\"relu\"))\n",
    "model.add(Dense(150,activation=\"relu\"))\n",
    "model.add(Dense(150,activation=\"relu\"))\n",
    "model.add(Dense(1,activation = \"linear\"))\n",
    "model.compile(optimizer='adam',loss=\"mean_squared_error\",metrics=[\"mean_absolute_error\"])\n"
   ]
  },
  {
   "cell_type": "code",
   "execution_count": 113,
   "metadata": {},
   "outputs": [
    {
     "name": "stdout",
     "output_type": "stream",
     "text": [
      "Epoch 1/15\n",
      "11413/11444 [============================>.] - ETA: 0s - loss: 1740223.5000 - mean_absolute_error: 858.2195WARNING:tensorflow:Callbacks method `on_test_batch_end` is slow compared to the batch time (batch time: 0.0000s vs `on_test_batch_end` time: 0.0010s). Check your callbacks.\n",
      "11444/11444 [==============================] - 18s 2ms/step - loss: 1738494.1250 - mean_absolute_error: 857.8074 - val_loss: 1231885.5000 - val_mean_absolute_error: 747.9931\n",
      "Epoch 2/15\n",
      "11444/11444 [==============================] - 18s 2ms/step - loss: 1172656.5000 - mean_absolute_error: 724.3940 - val_loss: 1157574.8750 - val_mean_absolute_error: 724.4283\n",
      "Epoch 3/15\n",
      "11444/11444 [==============================] - 18s 2ms/step - loss: 1095484.8750 - mean_absolute_error: 700.2535 - val_loss: 1013985.0000 - val_mean_absolute_error: 669.4919\n",
      "Epoch 4/15\n",
      "11444/11444 [==============================] - 18s 2ms/step - loss: 1064330.8750 - mean_absolute_error: 690.3194 - val_loss: 1003128.2500 - val_mean_absolute_error: 677.6401\n",
      "Epoch 5/15\n",
      "11444/11444 [==============================] - 18s 2ms/step - loss: 1035412.1875 - mean_absolute_error: 681.4519 - val_loss: 967693.6875 - val_mean_absolute_error: 662.4395\n",
      "Epoch 6/15\n",
      "11444/11444 [==============================] - 18s 2ms/step - loss: 1013995.5625 - mean_absolute_error: 674.9915 - val_loss: 1175933.8750 - val_mean_absolute_error: 760.6044\n",
      "Epoch 7/15\n",
      "11444/11444 [==============================] - 18s 2ms/step - loss: 1000468.0625 - mean_absolute_error: 671.3276 - val_loss: 991176.6250 - val_mean_absolute_error: 679.9460\n",
      "Epoch 8/15\n",
      "11444/11444 [==============================] - 19s 2ms/step - loss: 977997.5625 - mean_absolute_error: 664.1119 - val_loss: 1013143.3125 - val_mean_absolute_error: 688.4721\n",
      "Epoch 9/15\n",
      "11444/11444 [==============================] - 18s 2ms/step - loss: 953307.1250 - mean_absolute_error: 656.7125 - val_loss: 915466.6250 - val_mean_absolute_error: 652.8141\n",
      "Epoch 10/15\n",
      "11444/11444 [==============================] - 18s 2ms/step - loss: 934938.1250 - mean_absolute_error: 651.0448 - val_loss: 937115.0625 - val_mean_absolute_error: 655.9390\n",
      "Epoch 11/15\n",
      "11444/11444 [==============================] - 18s 2ms/step - loss: 923183.0000 - mean_absolute_error: 646.3305 - val_loss: 951664.5000 - val_mean_absolute_error: 651.2592\n",
      "Epoch 12/15\n",
      "11444/11444 [==============================] - 18s 2ms/step - loss: 906027.8125 - mean_absolute_error: 640.7690 - val_loss: 871010.0000 - val_mean_absolute_error: 639.6938\n",
      "Epoch 13/15\n",
      "11444/11444 [==============================] - 18s 2ms/step - loss: 895444.2500 - mean_absolute_error: 636.4686 - val_loss: 853666.7500 - val_mean_absolute_error: 621.9970\n",
      "Epoch 14/15\n",
      "11444/11444 [==============================] - 18s 2ms/step - loss: 883489.8750 - mean_absolute_error: 631.6160 - val_loss: 849436.1250 - val_mean_absolute_error: 622.8159\n",
      "Epoch 15/15\n",
      "11444/11444 [==============================] - 18s 2ms/step - loss: 872226.3750 - mean_absolute_error: 627.8999 - val_loss: 863979.3125 - val_mean_absolute_error: 630.4153\n",
      "6358/6358 [==============================] - 4s 704us/step - loss: 859010.9375 - mean_absolute_error: 626.0753\n",
      "Metric loss : 859010.94\n",
      "Metric mean_absolute_error : 626.08\n"
     ]
    }
   ],
   "source": [
    "model.fit(x_train,y_train, validation_data=(x_val,y_val),epochs=15,batch_size=64)\n",
    "result = model.evaluate(x_test,y_test)\n",
    "for i in range(len(model.metrics_names)):\n",
    "    print(\"Metric\",model.metrics_names[i],\":\",str(round(result[i],2)))\n"
   ]
  },
  {
   "cell_type": "code",
   "execution_count": 114,
   "metadata": {},
   "outputs": [],
   "source": [
    "from keras.callbacks import History\n",
    "history = History()\n",
    "model = Sequential()\n",
    "model.add(Dense(350,input_dim =44,activation=\"relu\"))\n",
    "model.add(Dense(350,activation=\"relu\"))\n",
    "model.add(Dense(350,activation=\"relu\"))\n",
    "model.add(Dense(350,activation=\"relu\"))\n",
    "model.add(Dense(350,activation=\"relu\"))\n",
    "model.add(Dense(1,activation = \"linear\"))"
   ]
  },
  {
   "cell_type": "code",
   "execution_count": 115,
   "metadata": {},
   "outputs": [
    {
     "name": "stdout",
     "output_type": "stream",
     "text": [
      "Epoch 1/15\n",
      "11444/11444 [==============================] - 42s 4ms/step - loss: 1632290.1250 - mean_absolute_error: 834.9694 - val_loss: 1411786.2500 - val_mean_absolute_error: 786.3325\n",
      "Epoch 2/15\n",
      "11444/11444 [==============================] - 46s 4ms/step - loss: 1166126.0000 - mean_absolute_error: 721.7535 - val_loss: 1043218.6875 - val_mean_absolute_error: 696.8870\n",
      "Epoch 3/15\n",
      "11444/11444 [==============================] - 45s 4ms/step - loss: 1095092.5000 - mean_absolute_error: 699.7335 - val_loss: 1043872.4375 - val_mean_absolute_error: 695.0023\n",
      "Epoch 4/15\n",
      "11444/11444 [==============================] - 46s 4ms/step - loss: 1061925.6250 - mean_absolute_error: 688.9095 - val_loss: 1061145.5000 - val_mean_absolute_error: 707.6302\n",
      "Epoch 5/15\n",
      "11444/11444 [==============================] - 46s 4ms/step - loss: 1033007.9375 - mean_absolute_error: 680.1249 - val_loss: 1135814.1250 - val_mean_absolute_error: 748.0995\n",
      "Epoch 6/15\n",
      "11444/11444 [==============================] - 48s 4ms/step - loss: 1011223.4375 - mean_absolute_error: 673.5966 - val_loss: 1042044.9375 - val_mean_absolute_error: 683.7446\n",
      "Epoch 7/15\n",
      "11444/11444 [==============================] - 46s 4ms/step - loss: 994505.3750 - mean_absolute_error: 668.2241 - val_loss: 994085.0000 - val_mean_absolute_error: 670.2157\n",
      "Epoch 8/15\n",
      "11444/11444 [==============================] - 44s 4ms/step - loss: 974090.5000 - mean_absolute_error: 662.9810 - val_loss: 954496.8750 - val_mean_absolute_error: 671.9069\n",
      "Epoch 9/15\n",
      "11444/11444 [==============================] - 45s 4ms/step - loss: 953916.0000 - mean_absolute_error: 656.7078 - val_loss: 896049.3750 - val_mean_absolute_error: 640.7617\n",
      "Epoch 10/15\n",
      "11444/11444 [==============================] - 57s 5ms/step - loss: 935158.1875 - mean_absolute_error: 651.2283 - val_loss: 858030.0000 - val_mean_absolute_error: 629.0223\n",
      "Epoch 11/15\n",
      "11444/11444 [==============================] - 86s 7ms/step - loss: 917433.5625 - mean_absolute_error: 645.2631 - val_loss: 898991.0000 - val_mean_absolute_error: 640.4020\n",
      "Epoch 12/15\n",
      "11444/11444 [==============================] - 84s 7ms/step - loss: 910868.6250 - mean_absolute_error: 642.3027 - val_loss: 882034.6250 - val_mean_absolute_error: 640.4912\n",
      "Epoch 13/15\n",
      "11444/11444 [==============================] - 85s 7ms/step - loss: 895247.3750 - mean_absolute_error: 636.5400 - val_loss: 936615.1875 - val_mean_absolute_error: 650.3373\n",
      "Epoch 14/15\n",
      "11444/11444 [==============================] - 85s 7ms/step - loss: 887167.0625 - mean_absolute_error: 633.6199 - val_loss: 845015.5000 - val_mean_absolute_error: 622.3296\n",
      "Epoch 15/15\n",
      "11444/11444 [==============================] - 85s 7ms/step - loss: 878494.4375 - mean_absolute_error: 630.1924 - val_loss: 850486.0625 - val_mean_absolute_error: 617.2849\n",
      "6358/6358 [==============================] - 25s 4ms/step - loss: 854189.6250 - mean_absolute_error: 615.7289\n"
     ]
    }
   ],
   "source": [
    "model.compile(optimizer='adam',loss=\"mean_squared_error\",metrics=[\"mean_absolute_error\"])\n",
    "model.fit(x_train,y_train, validation_data=(x_val,y_val),epochs=15,batch_size=64,callbacks=[history])\n",
    "result = model.evaluate(x_test,y_test)"
   ]
  },
  {
   "cell_type": "code",
   "execution_count": 116,
   "metadata": {},
   "outputs": [
    {
     "name": "stdout",
     "output_type": "stream",
     "text": [
      "Metric loss : 854189.62\n",
      "Metric mean_absolute_error : 615.73\n"
     ]
    }
   ],
   "source": [
    "for i in range(len(model.metrics_names)):\n",
    "    print(\"Metric\",model.metrics_names[i],\":\",str(round(result[i],2)))\n"
   ]
  },
  {
   "cell_type": "code",
   "execution_count": 120,
   "metadata": {},
   "outputs": [
    {
     "name": "stderr",
     "output_type": "stream",
     "text": [
      "<ipython-input-120-24624f632d92>:6: MatplotlibDeprecationWarning: Unrecognized location 'upperright'. Falling back on 'best'; valid locations are\n",
      "\tbest\n",
      "\tupper right\n",
      "\tupper left\n",
      "\tlower left\n",
      "\tlower right\n",
      "\tright\n",
      "\tcenter left\n",
      "\tcenter right\n",
      "\tlower center\n",
      "\tupper center\n",
      "\tcenter\n",
      "This will raise an exception in 3.3.\n",
      "  plt.legend(['Train', 'Validation'], loc='upperright')\n"
     ]
    },
    {
     "data": {
      "image/png": "[encoded data removed]",
      "text/plain": [
       "<Figure size 432x288 with 1 Axes>"
      ]
     },
     "metadata": {
      "needs_background": "light"
     },
     "output_type": "display_data"
    }
   ],
   "source": [
    "plt.plot(history.history['loss'])\n",
    "plt.plot(history.history['val_loss'])\n",
    "plt.title(\"Model's Training & Validation loss across epochs\")\n",
    "plt.ylabel('Loss')\n",
    "plt.xlabel('Epochs')\n",
    "plt.legend(['Train', 'Validation'], loc='upperright')\n",
    "plt.show()"
   ]
  },
  {
   "cell_type": "code",
   "execution_count": null,
   "metadata": {},
   "outputs": [],
   "source": []
  }
 ],
 "metadata": {
  "kernelspec": {
   "display_name": "Python 3",
   "language": "python",
   "name": "python3"
  },
  "language_info": {
   "codemirror_mode": {
    "name": "ipython",
    "version": 3
   },
   "file_extension": ".py",
   "mimetype": "text/x-python",
   "name": "python",
   "nbconvert_exporter": "python",
   "pygments_lexer": "ipython3",
   "version": "3.8.3"
  }
 },
 "nbformat": 4,
 "nbformat_minor": 4
}
